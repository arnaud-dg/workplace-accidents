{
 "cells": [
  {
   "cell_type": "markdown",
   "id": "deec906b",
   "metadata": {},
   "source": [
    "<h2 style=\"text-align:center;font-size:200%;\">\n",
    "    <b>Workplace Accident Database Textual Analysis through LLMs</b>\n",
    "</h2>\n",
    "<h3  style=\"text-align:center;\">Keywords : \n",
    "    <span style=\"border-radius:7px;background-color:yellowgreen;color:white;padding:7px;\">Large Language Models</span>\n",
    "    <span style=\"border-radius:7px;background-color:yellowgreen;color:white;padding:7px;\">Natural Language Processing</span>\n",
    "    <span style=\"border-radius:7px;background-color:yellowgreen;color:white;padding:7px;\">Mistral</span>\n",
    "    <span style=\"border-radius:7px;background-color:yellowgreen;color:white;padding:7px;\">Work Accidents</span>\n",
    "    <span style=\"border-radius:7px;background-color:yellowgreen;color:white;padding:7px;\">EHS</span>\n",
    "</h3>\n"
   ]
  },
  {
   "cell_type": "markdown",
   "id": "362650f5",
   "metadata": {},
   "source": [
    "The [EPICEA database](https://www.inrs.fr/publications/bdd/epicea.html) is managed by a french institute called [INRS](https://www.inrs.fr/), in charge of risk preventions in work environments.\n",
    "\n",
    "The purpose of this notebook is to create a tool able to : \n",
    "1. extract massively the accident descriptions from the french \"EPICEA\" database.,\n",
    "2. apply a LLM prompt in order to extract structured information from unstructured description\n",
    "3. propose a first analysis of the database"
   ]
  },
  {
   "cell_type": "code",
   "execution_count": null,
   "id": "05b56888",
   "metadata": {},
   "outputs": [],
   "source": [
    "Epicea est une base de données nationale et anonyme rassemblant plus de 21 000 cas d'accidents du travail survenus, depuis 1990, à des salariés du régime général de la Sécurité sociale. Ces accidents sont mortels, graves ou significatifs pour la prévention.\n",
    "\n",
    "Cette base de données n'est pas exhaustive puisque tous les accidents du travail n'y sont pas répertoriés."
   ]
  },
  {
   "cell_type": "code",
   "execution_count": null,
   "id": "2efbf6d4",
   "metadata": {},
   "outputs": [],
   "source": [
    "L'anonymat des personnes physiques et morales est respecté et l'origine des informations est préservée."
   ]
  },
  {
   "cell_type": "code",
   "execution_count": null,
   "id": "a99b3135",
   "metadata": {},
   "outputs": [],
   "source": [
    "Le numéro du dossier (qui s'incrémente automatiquement) : plus le numéro est élevé, plus l'accident est récent\n",
    "Le comité technique national (classification des grands secteurs d'activité selon l'arrêté du 17 octobre 1995 modifié)\n",
    "Le code entreprise (jusqu'en 2015 : code risque, déclinaison des comités techniques nationaux ; à partir de janvier 2015 : code APE selon la nomenclature NAF)\n",
    "Le facteur matériel le plus proche des lésions : objet, matériel, matériau, installation, etc. intervenant dans l'accident\n",
    "Le récit circonstancié de l'accident, éventuellement complété par des documents attachés (photos, arbres des causes, schémas, etc.)\n",
    "\n",
    "Le facteur matériel (ou matériel en cause) est structuré et renvoie à un libellé plus ou moins détaillé. Par exemple 510210 concerne les toitures en matériaux fragiles, 5102* une partie de bâtiment ou d’ouvrage, 51* les zones géographiques et emplacements de travail.\n",
    "\n",
    "Une collection de dossiers est obtenue par sélection multicritère."
   ]
  },
  {
   "cell_type": "markdown",
   "id": "cf762dbf",
   "metadata": {},
   "source": [
    "# <div style=\"text-align: left; background-color: yellowgreen; color: white; padding: 10px; line-height:1;border-radius:10px\">1. Modules and dependancies installing</div>"
   ]
  },
  {
   "cell_type": "code",
   "execution_count": 8,
   "id": "a5e23bed",
   "metadata": {},
   "outputs": [],
   "source": [
    "from tqdm import tqdm\n",
    "from urllib.request import urlopen\n",
    "import json\n",
    "import time\n",
    "import pandas as pd\n",
    "from io import StringIO\n",
    "import requests\n",
    "from bs4 import BeautifulSoup\n",
    "from selenium import webdriver\n",
    "from selenium.webdriver.chrome.options import Options\n",
    "from selenium.webdriver.common.by import By\n",
    "import re\n",
    "from IPython.display import Markdown as md"
   ]
  },
  {
   "cell_type": "code",
   "execution_count": 2,
   "id": "51fed825",
   "metadata": {},
   "outputs": [],
   "source": [
    "# Configurer les options Chrome pour le mode sans tête\n",
    "chrome_options = Options()\n",
    "chrome_options.add_argument(\"--headless\")\n",
    "# Initialiser le pilote Chrome avec les options spécifiées\n",
    "driver = webdriver.Chrome()#options=chrome_options)\n",
    "waiting_time = 1.5"
   ]
  },
  {
   "cell_type": "markdown",
   "id": "096d5528",
   "metadata": {},
   "source": [
    "# <div style=\"text-align: left; background-color: yellowgreen; color: white; padding: 10px; line-height:1;border-radius:10px\">2. Data Collection from INRS website</div>"
   ]
  },
  {
   "cell_type": "markdown",
   "id": "065b7228",
   "metadata": {},
   "source": [
    "Web scraping, is a technique used in data science to automatically extract data from websites.\n",
    "It involves using a program or script to navigate through web pages, parse the HTML or XML code, and extract specific pieces of information, such as text, images, files or other structured data. \n",
    "\n",
    "Our web scraping strategy will be performed in 2 separate steps:\n",
    "- First we will get the list of accident #IDs available in the database\n",
    "- Then we will extract separately the informations related to each individual accident."
   ]
  },
  {
   "cell_type": "markdown",
   "id": "e221fe57",
   "metadata": {},
   "source": [
    "## 2.1. Accidents #ID extraction"
   ]
  },
  {
   "cell_type": "code",
   "execution_count": 3,
   "id": "3bfa52f5",
   "metadata": {},
   "outputs": [],
   "source": [
    "# Ouverture du site\n",
    "search_url=\"https://www.inrs.fr/publications/bdd/epicea/recherche.html\"\n",
    "driver.get(search_url)"
   ]
  },
  {
   "cell_type": "code",
   "execution_count": 4,
   "id": "d2a3b057",
   "metadata": {},
   "outputs": [],
   "source": [
    "# Clique sur le bouton d'acceptation des cookies\n",
    "time.sleep(waiting_time)\n",
    "bouton_cookie = driver.find_element(By.ID, \"onetrust-accept-btn-handler\")\n",
    "bouton_cookie.click()"
   ]
  },
  {
   "cell_type": "code",
   "execution_count": 5,
   "id": "e678f660",
   "metadata": {},
   "outputs": [],
   "source": [
    "# Clique sur le bouton de \"recherche\"\n",
    "time.sleep(waiting_time)\n",
    "driver.switch_to.frame('siteExterneIframe')\n",
    "bouton_recherche = driver.find_element(By.XPATH, '//img[@src=\"/EPICEA/epicea.nsf/Rechercher.jpg\"]')\n",
    "bouton_recherche.click()"
   ]
  },
  {
   "cell_type": "code",
   "execution_count": 6,
   "id": "02b44726",
   "metadata": {},
   "outputs": [],
   "source": [
    "# Clique sur le bouton \"Afficher la liste\"\n",
    "time.sleep(waiting_time)\n",
    "bouton_afficher = driver.find_element(By.LINK_TEXT, \"afficher la liste\")\n",
    "bouton_afficher.click()"
   ]
  },
  {
   "cell_type": "code",
   "execution_count": 7,
   "id": "aa545a28",
   "metadata": {},
   "outputs": [],
   "source": [
    "# Recherche du nombre de pages\n",
    "time.sleep(waiting_time)\n",
    "bouton_last_page = driver.find_element(By.LINK_TEXT, \">>\")"
   ]
  },
  {
   "cell_type": "code",
   "execution_count": 8,
   "id": "04cb32fc",
   "metadata": {},
   "outputs": [],
   "source": [
    "nb_pages = bouton_last_page.get_attribute('href')\n",
    "nb_pages = nb_pages.replace(\"javascript:mainForm.currentPage.value='\", \"\")\n",
    "nb_pages = nb_pages.replace(\"';mainForm.submit();\", \"\")\n",
    "nb_pages = int(nb_pages)"
   ]
  },
  {
   "cell_type": "code",
   "execution_count": 9,
   "id": "a4267b3b",
   "metadata": {},
   "outputs": [],
   "source": [
    "# for i in liens_ref:\n",
    "#     print(i.get_attribute('href'))"
   ]
  },
  {
   "cell_type": "code",
   "execution_count": 10,
   "id": "8cb003bb",
   "metadata": {
    "scrolled": false
   },
   "outputs": [
    {
     "name": "stderr",
     "output_type": "stream",
     "text": [
      "  2%|█▋                                                                            | 95/4335 [03:37<2:41:35,  2.29s/it]\n"
     ]
    },
    {
     "ename": "KeyboardInterrupt",
     "evalue": "",
     "output_type": "error",
     "traceback": [
      "\u001b[1;31m---------------------------------------------------------------------------\u001b[0m",
      "\u001b[1;31mKeyboardInterrupt\u001b[0m                         Traceback (most recent call last)",
      "Cell \u001b[1;32mIn[10], line 14\u001b[0m\n\u001b[0;32m     12\u001b[0m bouton_next_page \u001b[38;5;241m=\u001b[39m driver\u001b[38;5;241m.\u001b[39mfind_element(By\u001b[38;5;241m.\u001b[39mLINK_TEXT, \u001b[38;5;124m\"\u001b[39m\u001b[38;5;124m>\u001b[39m\u001b[38;5;124m\"\u001b[39m)\n\u001b[0;32m     13\u001b[0m bouton_next_page\u001b[38;5;241m.\u001b[39mclick()\n\u001b[1;32m---> 14\u001b[0m liens_ref \u001b[38;5;241m=\u001b[39m driver\u001b[38;5;241m.\u001b[39mfind_elements(By\u001b[38;5;241m.\u001b[39mCLASS_NAME, \u001b[38;5;124m'\u001b[39m\u001b[38;5;124mlien\u001b[39m\u001b[38;5;124m'\u001b[39m)\n\u001b[0;32m     15\u001b[0m \u001b[38;5;28;01mfor\u001b[39;00m j \u001b[38;5;129;01min\u001b[39;00m liens_ref:\n\u001b[0;32m     16\u001b[0m     \u001b[38;5;28;01mif\u001b[39;00m \u001b[38;5;124m\"\u001b[39m\u001b[38;5;124munid\u001b[39m\u001b[38;5;124m\"\u001b[39m \u001b[38;5;129;01min\u001b[39;00m j\u001b[38;5;241m.\u001b[39mget_attribute(\u001b[38;5;124m'\u001b[39m\u001b[38;5;124mhref\u001b[39m\u001b[38;5;124m'\u001b[39m):\n",
      "File \u001b[1;32m~\\AppData\\Roaming\\Python\\Python311\\site-packages\\selenium\\webdriver\\remote\\webdriver.py:772\u001b[0m, in \u001b[0;36mWebDriver.find_elements\u001b[1;34m(self, by, value)\u001b[0m\n\u001b[0;32m    768\u001b[0m     value \u001b[38;5;241m=\u001b[39m \u001b[38;5;124mf\u001b[39m\u001b[38;5;124m'\u001b[39m\u001b[38;5;124m[name=\u001b[39m\u001b[38;5;124m\"\u001b[39m\u001b[38;5;132;01m{\u001b[39;00mvalue\u001b[38;5;132;01m}\u001b[39;00m\u001b[38;5;124m\"\u001b[39m\u001b[38;5;124m]\u001b[39m\u001b[38;5;124m'\u001b[39m\n\u001b[0;32m    770\u001b[0m \u001b[38;5;66;03m# Return empty list if driver returns null\u001b[39;00m\n\u001b[0;32m    771\u001b[0m \u001b[38;5;66;03m# See https://github.com/SeleniumHQ/selenium/issues/4555\u001b[39;00m\n\u001b[1;32m--> 772\u001b[0m \u001b[38;5;28;01mreturn\u001b[39;00m \u001b[38;5;28mself\u001b[39m\u001b[38;5;241m.\u001b[39mexecute(Command\u001b[38;5;241m.\u001b[39mFIND_ELEMENTS, {\u001b[38;5;124m\"\u001b[39m\u001b[38;5;124musing\u001b[39m\u001b[38;5;124m\"\u001b[39m: by, \u001b[38;5;124m\"\u001b[39m\u001b[38;5;124mvalue\u001b[39m\u001b[38;5;124m\"\u001b[39m: value})[\u001b[38;5;124m\"\u001b[39m\u001b[38;5;124mvalue\u001b[39m\u001b[38;5;124m\"\u001b[39m] \u001b[38;5;129;01mor\u001b[39;00m []\n",
      "File \u001b[1;32m~\\AppData\\Roaming\\Python\\Python311\\site-packages\\selenium\\webdriver\\remote\\webdriver.py:346\u001b[0m, in \u001b[0;36mWebDriver.execute\u001b[1;34m(self, driver_command, params)\u001b[0m\n\u001b[0;32m    343\u001b[0m     \u001b[38;5;28;01melif\u001b[39;00m \u001b[38;5;124m\"\u001b[39m\u001b[38;5;124msessionId\u001b[39m\u001b[38;5;124m\"\u001b[39m \u001b[38;5;129;01mnot\u001b[39;00m \u001b[38;5;129;01min\u001b[39;00m params:\n\u001b[0;32m    344\u001b[0m         params[\u001b[38;5;124m\"\u001b[39m\u001b[38;5;124msessionId\u001b[39m\u001b[38;5;124m\"\u001b[39m] \u001b[38;5;241m=\u001b[39m \u001b[38;5;28mself\u001b[39m\u001b[38;5;241m.\u001b[39msession_id\n\u001b[1;32m--> 346\u001b[0m response \u001b[38;5;241m=\u001b[39m \u001b[38;5;28mself\u001b[39m\u001b[38;5;241m.\u001b[39mcommand_executor\u001b[38;5;241m.\u001b[39mexecute(driver_command, params)\n\u001b[0;32m    347\u001b[0m \u001b[38;5;28;01mif\u001b[39;00m response:\n\u001b[0;32m    348\u001b[0m     \u001b[38;5;28mself\u001b[39m\u001b[38;5;241m.\u001b[39merror_handler\u001b[38;5;241m.\u001b[39mcheck_response(response)\n",
      "File \u001b[1;32m~\\AppData\\Roaming\\Python\\Python311\\site-packages\\selenium\\webdriver\\remote\\remote_connection.py:300\u001b[0m, in \u001b[0;36mRemoteConnection.execute\u001b[1;34m(self, command, params)\u001b[0m\n\u001b[0;32m    298\u001b[0m data \u001b[38;5;241m=\u001b[39m utils\u001b[38;5;241m.\u001b[39mdump_json(params)\n\u001b[0;32m    299\u001b[0m url \u001b[38;5;241m=\u001b[39m \u001b[38;5;124mf\u001b[39m\u001b[38;5;124m\"\u001b[39m\u001b[38;5;132;01m{\u001b[39;00m\u001b[38;5;28mself\u001b[39m\u001b[38;5;241m.\u001b[39m_url\u001b[38;5;132;01m}\u001b[39;00m\u001b[38;5;132;01m{\u001b[39;00mpath\u001b[38;5;132;01m}\u001b[39;00m\u001b[38;5;124m\"\u001b[39m\n\u001b[1;32m--> 300\u001b[0m \u001b[38;5;28;01mreturn\u001b[39;00m \u001b[38;5;28mself\u001b[39m\u001b[38;5;241m.\u001b[39m_request(command_info[\u001b[38;5;241m0\u001b[39m], url, body\u001b[38;5;241m=\u001b[39mdata)\n",
      "File \u001b[1;32m~\\AppData\\Roaming\\Python\\Python311\\site-packages\\selenium\\webdriver\\remote\\remote_connection.py:321\u001b[0m, in \u001b[0;36mRemoteConnection._request\u001b[1;34m(self, method, url, body)\u001b[0m\n\u001b[0;32m    318\u001b[0m     body \u001b[38;5;241m=\u001b[39m \u001b[38;5;28;01mNone\u001b[39;00m\n\u001b[0;32m    320\u001b[0m \u001b[38;5;28;01mif\u001b[39;00m \u001b[38;5;28mself\u001b[39m\u001b[38;5;241m.\u001b[39mkeep_alive:\n\u001b[1;32m--> 321\u001b[0m     response \u001b[38;5;241m=\u001b[39m \u001b[38;5;28mself\u001b[39m\u001b[38;5;241m.\u001b[39m_conn\u001b[38;5;241m.\u001b[39mrequest(method, url, body\u001b[38;5;241m=\u001b[39mbody, headers\u001b[38;5;241m=\u001b[39mheaders)\n\u001b[0;32m    322\u001b[0m     statuscode \u001b[38;5;241m=\u001b[39m response\u001b[38;5;241m.\u001b[39mstatus\n\u001b[0;32m    323\u001b[0m \u001b[38;5;28;01melse\u001b[39;00m:\n",
      "File \u001b[1;32mC:\\ProgramData\\anaconda3\\Lib\\site-packages\\urllib3\\request.py:78\u001b[0m, in \u001b[0;36mRequestMethods.request\u001b[1;34m(self, method, url, fields, headers, **urlopen_kw)\u001b[0m\n\u001b[0;32m     74\u001b[0m     \u001b[38;5;28;01mreturn\u001b[39;00m \u001b[38;5;28mself\u001b[39m\u001b[38;5;241m.\u001b[39mrequest_encode_url(\n\u001b[0;32m     75\u001b[0m         method, url, fields\u001b[38;5;241m=\u001b[39mfields, headers\u001b[38;5;241m=\u001b[39mheaders, \u001b[38;5;241m*\u001b[39m\u001b[38;5;241m*\u001b[39murlopen_kw\n\u001b[0;32m     76\u001b[0m     )\n\u001b[0;32m     77\u001b[0m \u001b[38;5;28;01melse\u001b[39;00m:\n\u001b[1;32m---> 78\u001b[0m     \u001b[38;5;28;01mreturn\u001b[39;00m \u001b[38;5;28mself\u001b[39m\u001b[38;5;241m.\u001b[39mrequest_encode_body(\n\u001b[0;32m     79\u001b[0m         method, url, fields\u001b[38;5;241m=\u001b[39mfields, headers\u001b[38;5;241m=\u001b[39mheaders, \u001b[38;5;241m*\u001b[39m\u001b[38;5;241m*\u001b[39murlopen_kw\n\u001b[0;32m     80\u001b[0m     )\n",
      "File \u001b[1;32mC:\\ProgramData\\anaconda3\\Lib\\site-packages\\urllib3\\request.py:170\u001b[0m, in \u001b[0;36mRequestMethods.request_encode_body\u001b[1;34m(self, method, url, fields, headers, encode_multipart, multipart_boundary, **urlopen_kw)\u001b[0m\n\u001b[0;32m    167\u001b[0m extra_kw[\u001b[38;5;124m\"\u001b[39m\u001b[38;5;124mheaders\u001b[39m\u001b[38;5;124m\"\u001b[39m]\u001b[38;5;241m.\u001b[39mupdate(headers)\n\u001b[0;32m    168\u001b[0m extra_kw\u001b[38;5;241m.\u001b[39mupdate(urlopen_kw)\n\u001b[1;32m--> 170\u001b[0m \u001b[38;5;28;01mreturn\u001b[39;00m \u001b[38;5;28mself\u001b[39m\u001b[38;5;241m.\u001b[39murlopen(method, url, \u001b[38;5;241m*\u001b[39m\u001b[38;5;241m*\u001b[39mextra_kw)\n",
      "File \u001b[1;32mC:\\ProgramData\\anaconda3\\Lib\\site-packages\\urllib3\\poolmanager.py:376\u001b[0m, in \u001b[0;36mPoolManager.urlopen\u001b[1;34m(self, method, url, redirect, **kw)\u001b[0m\n\u001b[0;32m    374\u001b[0m     response \u001b[38;5;241m=\u001b[39m conn\u001b[38;5;241m.\u001b[39murlopen(method, url, \u001b[38;5;241m*\u001b[39m\u001b[38;5;241m*\u001b[39mkw)\n\u001b[0;32m    375\u001b[0m \u001b[38;5;28;01melse\u001b[39;00m:\n\u001b[1;32m--> 376\u001b[0m     response \u001b[38;5;241m=\u001b[39m conn\u001b[38;5;241m.\u001b[39murlopen(method, u\u001b[38;5;241m.\u001b[39mrequest_uri, \u001b[38;5;241m*\u001b[39m\u001b[38;5;241m*\u001b[39mkw)\n\u001b[0;32m    378\u001b[0m redirect_location \u001b[38;5;241m=\u001b[39m redirect \u001b[38;5;129;01mand\u001b[39;00m response\u001b[38;5;241m.\u001b[39mget_redirect_location()\n\u001b[0;32m    379\u001b[0m \u001b[38;5;28;01mif\u001b[39;00m \u001b[38;5;129;01mnot\u001b[39;00m redirect_location:\n",
      "File \u001b[1;32mC:\\ProgramData\\anaconda3\\Lib\\site-packages\\urllib3\\connectionpool.py:714\u001b[0m, in \u001b[0;36mHTTPConnectionPool.urlopen\u001b[1;34m(self, method, url, body, headers, retries, redirect, assert_same_host, timeout, pool_timeout, release_conn, chunked, body_pos, **response_kw)\u001b[0m\n\u001b[0;32m    711\u001b[0m     \u001b[38;5;28mself\u001b[39m\u001b[38;5;241m.\u001b[39m_prepare_proxy(conn)\n\u001b[0;32m    713\u001b[0m \u001b[38;5;66;03m# Make the request on the httplib connection object.\u001b[39;00m\n\u001b[1;32m--> 714\u001b[0m httplib_response \u001b[38;5;241m=\u001b[39m \u001b[38;5;28mself\u001b[39m\u001b[38;5;241m.\u001b[39m_make_request(\n\u001b[0;32m    715\u001b[0m     conn,\n\u001b[0;32m    716\u001b[0m     method,\n\u001b[0;32m    717\u001b[0m     url,\n\u001b[0;32m    718\u001b[0m     timeout\u001b[38;5;241m=\u001b[39mtimeout_obj,\n\u001b[0;32m    719\u001b[0m     body\u001b[38;5;241m=\u001b[39mbody,\n\u001b[0;32m    720\u001b[0m     headers\u001b[38;5;241m=\u001b[39mheaders,\n\u001b[0;32m    721\u001b[0m     chunked\u001b[38;5;241m=\u001b[39mchunked,\n\u001b[0;32m    722\u001b[0m )\n\u001b[0;32m    724\u001b[0m \u001b[38;5;66;03m# If we're going to release the connection in ``finally:``, then\u001b[39;00m\n\u001b[0;32m    725\u001b[0m \u001b[38;5;66;03m# the response doesn't need to know about the connection. Otherwise\u001b[39;00m\n\u001b[0;32m    726\u001b[0m \u001b[38;5;66;03m# it will also try to release it and we'll have a double-release\u001b[39;00m\n\u001b[0;32m    727\u001b[0m \u001b[38;5;66;03m# mess.\u001b[39;00m\n\u001b[0;32m    728\u001b[0m response_conn \u001b[38;5;241m=\u001b[39m conn \u001b[38;5;28;01mif\u001b[39;00m \u001b[38;5;129;01mnot\u001b[39;00m release_conn \u001b[38;5;28;01melse\u001b[39;00m \u001b[38;5;28;01mNone\u001b[39;00m\n",
      "File \u001b[1;32mC:\\ProgramData\\anaconda3\\Lib\\site-packages\\urllib3\\connectionpool.py:466\u001b[0m, in \u001b[0;36mHTTPConnectionPool._make_request\u001b[1;34m(self, conn, method, url, timeout, chunked, **httplib_request_kw)\u001b[0m\n\u001b[0;32m    461\u001b[0m             httplib_response \u001b[38;5;241m=\u001b[39m conn\u001b[38;5;241m.\u001b[39mgetresponse()\n\u001b[0;32m    462\u001b[0m         \u001b[38;5;28;01mexcept\u001b[39;00m \u001b[38;5;167;01mBaseException\u001b[39;00m \u001b[38;5;28;01mas\u001b[39;00m e:\n\u001b[0;32m    463\u001b[0m             \u001b[38;5;66;03m# Remove the TypeError from the exception chain in\u001b[39;00m\n\u001b[0;32m    464\u001b[0m             \u001b[38;5;66;03m# Python 3 (including for exceptions like SystemExit).\u001b[39;00m\n\u001b[0;32m    465\u001b[0m             \u001b[38;5;66;03m# Otherwise it looks like a bug in the code.\u001b[39;00m\n\u001b[1;32m--> 466\u001b[0m             six\u001b[38;5;241m.\u001b[39mraise_from(e, \u001b[38;5;28;01mNone\u001b[39;00m)\n\u001b[0;32m    467\u001b[0m \u001b[38;5;28;01mexcept\u001b[39;00m (SocketTimeout, BaseSSLError, SocketError) \u001b[38;5;28;01mas\u001b[39;00m e:\n\u001b[0;32m    468\u001b[0m     \u001b[38;5;28mself\u001b[39m\u001b[38;5;241m.\u001b[39m_raise_timeout(err\u001b[38;5;241m=\u001b[39me, url\u001b[38;5;241m=\u001b[39murl, timeout_value\u001b[38;5;241m=\u001b[39mread_timeout)\n",
      "File \u001b[1;32m<string>:3\u001b[0m, in \u001b[0;36mraise_from\u001b[1;34m(value, from_value)\u001b[0m\n",
      "File \u001b[1;32mC:\\ProgramData\\anaconda3\\Lib\\site-packages\\urllib3\\connectionpool.py:461\u001b[0m, in \u001b[0;36mHTTPConnectionPool._make_request\u001b[1;34m(self, conn, method, url, timeout, chunked, **httplib_request_kw)\u001b[0m\n\u001b[0;32m    458\u001b[0m \u001b[38;5;28;01mexcept\u001b[39;00m \u001b[38;5;167;01mTypeError\u001b[39;00m:\n\u001b[0;32m    459\u001b[0m     \u001b[38;5;66;03m# Python 3\u001b[39;00m\n\u001b[0;32m    460\u001b[0m     \u001b[38;5;28;01mtry\u001b[39;00m:\n\u001b[1;32m--> 461\u001b[0m         httplib_response \u001b[38;5;241m=\u001b[39m conn\u001b[38;5;241m.\u001b[39mgetresponse()\n\u001b[0;32m    462\u001b[0m     \u001b[38;5;28;01mexcept\u001b[39;00m \u001b[38;5;167;01mBaseException\u001b[39;00m \u001b[38;5;28;01mas\u001b[39;00m e:\n\u001b[0;32m    463\u001b[0m         \u001b[38;5;66;03m# Remove the TypeError from the exception chain in\u001b[39;00m\n\u001b[0;32m    464\u001b[0m         \u001b[38;5;66;03m# Python 3 (including for exceptions like SystemExit).\u001b[39;00m\n\u001b[0;32m    465\u001b[0m         \u001b[38;5;66;03m# Otherwise it looks like a bug in the code.\u001b[39;00m\n\u001b[0;32m    466\u001b[0m         six\u001b[38;5;241m.\u001b[39mraise_from(e, \u001b[38;5;28;01mNone\u001b[39;00m)\n",
      "File \u001b[1;32mC:\\ProgramData\\anaconda3\\Lib\\http\\client.py:1378\u001b[0m, in \u001b[0;36mHTTPConnection.getresponse\u001b[1;34m(self)\u001b[0m\n\u001b[0;32m   1376\u001b[0m \u001b[38;5;28;01mtry\u001b[39;00m:\n\u001b[0;32m   1377\u001b[0m     \u001b[38;5;28;01mtry\u001b[39;00m:\n\u001b[1;32m-> 1378\u001b[0m         response\u001b[38;5;241m.\u001b[39mbegin()\n\u001b[0;32m   1379\u001b[0m     \u001b[38;5;28;01mexcept\u001b[39;00m \u001b[38;5;167;01mConnectionError\u001b[39;00m:\n\u001b[0;32m   1380\u001b[0m         \u001b[38;5;28mself\u001b[39m\u001b[38;5;241m.\u001b[39mclose()\n",
      "File \u001b[1;32mC:\\ProgramData\\anaconda3\\Lib\\http\\client.py:318\u001b[0m, in \u001b[0;36mHTTPResponse.begin\u001b[1;34m(self)\u001b[0m\n\u001b[0;32m    316\u001b[0m \u001b[38;5;66;03m# read until we get a non-100 response\u001b[39;00m\n\u001b[0;32m    317\u001b[0m \u001b[38;5;28;01mwhile\u001b[39;00m \u001b[38;5;28;01mTrue\u001b[39;00m:\n\u001b[1;32m--> 318\u001b[0m     version, status, reason \u001b[38;5;241m=\u001b[39m \u001b[38;5;28mself\u001b[39m\u001b[38;5;241m.\u001b[39m_read_status()\n\u001b[0;32m    319\u001b[0m     \u001b[38;5;28;01mif\u001b[39;00m status \u001b[38;5;241m!=\u001b[39m CONTINUE:\n\u001b[0;32m    320\u001b[0m         \u001b[38;5;28;01mbreak\u001b[39;00m\n",
      "File \u001b[1;32mC:\\ProgramData\\anaconda3\\Lib\\http\\client.py:279\u001b[0m, in \u001b[0;36mHTTPResponse._read_status\u001b[1;34m(self)\u001b[0m\n\u001b[0;32m    278\u001b[0m \u001b[38;5;28;01mdef\u001b[39;00m \u001b[38;5;21m_read_status\u001b[39m(\u001b[38;5;28mself\u001b[39m):\n\u001b[1;32m--> 279\u001b[0m     line \u001b[38;5;241m=\u001b[39m \u001b[38;5;28mstr\u001b[39m(\u001b[38;5;28mself\u001b[39m\u001b[38;5;241m.\u001b[39mfp\u001b[38;5;241m.\u001b[39mreadline(_MAXLINE \u001b[38;5;241m+\u001b[39m \u001b[38;5;241m1\u001b[39m), \u001b[38;5;124m\"\u001b[39m\u001b[38;5;124miso-8859-1\u001b[39m\u001b[38;5;124m\"\u001b[39m)\n\u001b[0;32m    280\u001b[0m     \u001b[38;5;28;01mif\u001b[39;00m \u001b[38;5;28mlen\u001b[39m(line) \u001b[38;5;241m>\u001b[39m _MAXLINE:\n\u001b[0;32m    281\u001b[0m         \u001b[38;5;28;01mraise\u001b[39;00m LineTooLong(\u001b[38;5;124m\"\u001b[39m\u001b[38;5;124mstatus line\u001b[39m\u001b[38;5;124m\"\u001b[39m)\n",
      "File \u001b[1;32mC:\\ProgramData\\anaconda3\\Lib\\socket.py:706\u001b[0m, in \u001b[0;36mSocketIO.readinto\u001b[1;34m(self, b)\u001b[0m\n\u001b[0;32m    704\u001b[0m \u001b[38;5;28;01mwhile\u001b[39;00m \u001b[38;5;28;01mTrue\u001b[39;00m:\n\u001b[0;32m    705\u001b[0m     \u001b[38;5;28;01mtry\u001b[39;00m:\n\u001b[1;32m--> 706\u001b[0m         \u001b[38;5;28;01mreturn\u001b[39;00m \u001b[38;5;28mself\u001b[39m\u001b[38;5;241m.\u001b[39m_sock\u001b[38;5;241m.\u001b[39mrecv_into(b)\n\u001b[0;32m    707\u001b[0m     \u001b[38;5;28;01mexcept\u001b[39;00m timeout:\n\u001b[0;32m    708\u001b[0m         \u001b[38;5;28mself\u001b[39m\u001b[38;5;241m.\u001b[39m_timeout_occurred \u001b[38;5;241m=\u001b[39m \u001b[38;5;28;01mTrue\u001b[39;00m\n",
      "\u001b[1;31mKeyboardInterrupt\u001b[0m: "
     ]
    }
   ],
   "source": [
    "# Main loop\n",
    "Ref_list = []\n",
    "\n",
    "liens_ref = driver.find_elements(By.CLASS_NAME, 'lien')\n",
    "for i in liens_ref:\n",
    "    if \"unid\" in i.get_attribute('href'):\n",
    "        Ref_list.append(i.get_attribute('href'))\n",
    "        \n",
    "for i in tqdm(range(1, nb_pages)):\n",
    "    # Clique sur le lien page suivante\n",
    "    time.sleep(waiting_time)\n",
    "    bouton_next_page = driver.find_element(By.LINK_TEXT, \">\")\n",
    "    bouton_next_page.click()\n",
    "    liens_ref = driver.find_elements(By.CLASS_NAME, 'lien')\n",
    "    for j in liens_ref:\n",
    "        if \"unid\" in j.get_attribute('href'):\n",
    "            Ref_list.append(j.get_attribute('href'))\n",
    "    "
   ]
  },
  {
   "cell_type": "code",
   "execution_count": null,
   "id": "d8ef8a82",
   "metadata": {},
   "outputs": [],
   "source": [
    "Ref_list = list(set(Ref_list))\n",
    "number_id = len(Ref_list)"
   ]
  },
  {
   "cell_type": "code",
   "execution_count": null,
   "id": "9ff41042",
   "metadata": {},
   "outputs": [],
   "source": [
    "df = pd.DataFrame(Ref_list, columns=['Ref'])"
   ]
  },
  {
   "cell_type": "code",
   "execution_count": null,
   "id": "5ae6439e",
   "metadata": {},
   "outputs": [],
   "source": [
    "df.to_csv('Ref_epicea.csv', index=False)"
   ]
  },
  {
   "cell_type": "code",
   "execution_count": 12,
   "id": "c674bb6e",
   "metadata": {},
   "outputs": [],
   "source": [
    "# Fermer le navigateur\n",
    "driver.quit()"
   ]
  },
  {
   "cell_type": "code",
   "execution_count": 20,
   "id": "81883aef",
   "metadata": {},
   "outputs": [
    {
     "data": {
      "text/markdown": [
       "After this first step, we get a list of 5 ID numbers, saved in the *Ref_epicea.csv* file."
      ],
      "text/plain": [
       "<IPython.core.display.Markdown object>"
      ]
     },
     "execution_count": 20,
     "metadata": {},
     "output_type": "execute_result"
    }
   ],
   "source": [
    "md(\"After this first step, we get a list of {} ID numbers, saved in the *Ref_epicea.csv* file.\".format(number_id)) "
   ]
  },
  {
   "cell_type": "markdown",
   "id": "20a51a58",
   "metadata": {},
   "source": [
    "## 2.2. Detailed data extraction"
   ]
  },
  {
   "cell_type": "code",
   "execution_count": 9,
   "id": "2786f1f6",
   "metadata": {},
   "outputs": [],
   "source": [
    "import xml.etree.ElementTree as ET\n",
    "import pandas as pd\n",
    "import numpy as np\n",
    "from tqdm import tqdm\n",
    "from ast import literal_eval\n",
    "from os.path import exists\n",
    "from pathlib import Path\n",
    "waiting_time = 1"
   ]
  },
  {
   "cell_type": "code",
   "execution_count": 10,
   "id": "f96510e1",
   "metadata": {},
   "outputs": [],
   "source": [
    "# Ouverture du site\n",
    "driver = webdriver.Chrome()#options=chrome_options)\n",
    "search_url=\"https://www.inrs.fr/publications/bdd/epicea/recherche.html\"\n",
    "driver.get(search_url)\n",
    "# Clique sur le bouton d'acceptation des cookies\n",
    "time.sleep(waiting_time)\n",
    "bouton_cookie = driver.find_element(By.ID, \"onetrust-accept-btn-handler\")\n",
    "bouton_cookie.click()\n",
    "# Clique sur le bouton de \"recherche\"\n",
    "time.sleep(waiting_time)\n",
    "driver.switch_to.frame('siteExterneIframe')\n",
    "bouton_recherche = driver.find_element(By.XPATH, '//img[@src=\"/EPICEA/epicea.nsf/Rechercher.jpg\"]')\n",
    "bouton_recherche.click()\n",
    "# Clique sur le bouton \"Afficher la liste\"\n",
    "time.sleep(waiting_time)\n",
    "bouton_afficher = driver.find_element(By.LINK_TEXT, \"afficher la liste\")\n",
    "bouton_afficher.click()"
   ]
  },
  {
   "cell_type": "code",
   "execution_count": 11,
   "id": "33add6ea",
   "metadata": {},
   "outputs": [],
   "source": [
    "# Data loading\n",
    "df = pd.read_csv('Ref_epicea.csv')"
   ]
  },
  {
   "cell_type": "code",
   "execution_count": 12,
   "id": "a6647c11",
   "metadata": {},
   "outputs": [],
   "source": [
    "path = Path(\"Accident_database.csv\")\n",
    "if path.is_file():\n",
    "    df_deja_analyse = pd.read_csv('Accident_database.csv', sep=\"|\")\n",
    "else:\n",
    "    df_deja_analyse = pd.DataFrame(columns=['Ref', 'Numero_dossier', 'Comite', 'Code_entreprise', 'Materiel', 'Resume', 'Adresse_pdf'])"
   ]
  },
  {
   "cell_type": "code",
   "execution_count": 13,
   "id": "0cf5869f",
   "metadata": {
    "scrolled": true
   },
   "outputs": [],
   "source": [
    "ref_deja_analyses = df_deja_analyse['Ref']"
   ]
  },
  {
   "cell_type": "code",
   "execution_count": 14,
   "id": "45fb8773",
   "metadata": {},
   "outputs": [],
   "source": [
    "# Filtrer df1 pour garder seulement les lignes dont l'ID n'est pas dans df2\n",
    "df = df[~df['Ref'].isin(ref_deja_analyses)]"
   ]
  },
  {
   "cell_type": "code",
   "execution_count": 8,
   "id": "512a70f4",
   "metadata": {},
   "outputs": [],
   "source": [
    "# Dataframe columns creation\n",
    "col = ['Numero_dossier', 'Comite', 'Code_entreprise', 'Materiel', 'Resume', 'Adresse_pdf']\n",
    "for i in col:\n",
    "    df[col] = None"
   ]
  },
  {
   "cell_type": "code",
   "execution_count": 12,
   "id": "c77f7380",
   "metadata": {},
   "outputs": [],
   "source": [
    "def get_content_after_text(driver, text):\n",
    "    # Remplacer les espaces par un code qui représente un espace insécable en HTML\n",
    "    text_for_xpath = text.replace(' ', '&#160;')\n",
    "    \n",
    "    # Préparer l'expression XPath\n",
    "    # Nous construisons d'abord la partie avec les espaces insécables en dehors de la f-string\n",
    "    nbsp = '\\xa0'\n",
    "    xpath_text_part = text_for_xpath.replace('&#160;', nbsp)\n",
    "    \n",
    "    # Ensuite, nous l'insérons dans l'expression XPath\n",
    "    xpath = f\"//td[contains(., '{xpath_text_part}')]/following-sibling::td[1]\"\n",
    "    \n",
    "    # Trouver l'élément par XPath\n",
    "    content_td = driver.find_element(By.XPATH, xpath)\n",
    "    \n",
    "    # Retourner le texte de cet élément\n",
    "    return content_td.text.strip()"
   ]
  },
  {
   "cell_type": "code",
   "execution_count": 13,
   "id": "ea94a34f",
   "metadata": {},
   "outputs": [],
   "source": [
    "def get_accident_summary(driver, text):\n",
    "    # Échapper les espaces insécables présents dans le texte d'entrée\n",
    "    nbsp = '\\xa0'\n",
    "    text_for_xpath = text.replace(' ', nbsp)\n",
    "    \n",
    "    # Construire l'XPath pour trouver le td contenant le texte\n",
    "    # puis naviguer au premier td suivant qui contient le résumé\n",
    "    xpath = f\"//td[contains(., '{text_for_xpath}')]/following-sibling::td[1]//div\"\n",
    "    \n",
    "    # Trouver l'élément par XPath\n",
    "    summary_div = driver.find_element(By.XPATH, xpath)\n",
    "    \n",
    "    # Retourner le texte de cet élément, en utilisant `.text` pour récupérer tout le texte y compris celui des éléments enfants\n",
    "    return summary_div.text.strip()"
   ]
  },
  {
   "cell_type": "code",
   "execution_count": 14,
   "id": "a9081b8f",
   "metadata": {},
   "outputs": [],
   "source": [
    "ref_avec_titre_nul = df.loc[df['Numero_dossier'].isnull(), 'Ref']\n",
    "liste_ref = ref_avec_titre_nul.tolist()"
   ]
  },
  {
   "cell_type": "code",
   "execution_count": 15,
   "id": "c91fb156",
   "metadata": {
    "scrolled": false
   },
   "outputs": [
    {
     "name": "stderr",
     "output_type": "stream",
     "text": [
      "0it [00:00, ?it/s]\n"
     ]
    }
   ],
   "source": [
    "for ref in tqdm(liste_ref):\n",
    "    \n",
    "    driver.get(ref)\n",
    "    \n",
    "    # Informations tabulaires\n",
    "    Numero_dossier = get_content_after_text(driver, \"Numéro du dossier : \")\n",
    "    Comite = get_content_after_text(driver, \"Comité technique national : \")\n",
    "    Code_entreprise = get_content_after_text(driver, \"Code entreprise : \")\n",
    "    Materiel = get_content_after_text(driver, \"Matériel en cause : \")\n",
    "    Resume = get_content_after_text(driver, \"Résumé de \")\n",
    "    Resume = Resume.replace(\"/n\", \" \")\n",
    "    Resume = Resume.replace(\"/r\", \" \")\n",
    "    \n",
    "    # lien vers les pdf\n",
    "    liste_pdf = []\n",
    "    pdf_links = driver.find_elements(By.CLASS_NAME, \"lien\")\n",
    "    for i in pdf_links:\n",
    "        if i.get_attribute('onclick') != None:\n",
    "            text = i.get_attribute('onclick')\n",
    "            text = text.replace(\"Javascript: window.open('\", \"\")\n",
    "            text = text.replace(\"','Documents', 'menubar=yes, status=no, scrollbars=yes, resizable=yes');\", \"\")\n",
    "            text = text.replace(\"javascript:window.open('public_popupAideAffichage','Aide','resizable=yes,status=yes,scrollbars=yes,menubars=yes,width=540,height=200')\", \"\")\n",
    "            if len(text) > 10:\n",
    "                text = \"https://epicea.inrs.fr/\" + text.strip()\n",
    "                liste_pdf.append(text)\n",
    "    \n",
    "    # Creation du dataframe\n",
    "    dict_data = {\n",
    "        'Ref':ref,\n",
    "        'Numero_dossier':Numero_dossier, \n",
    "        'Comite':Comite, \n",
    "        'Code_entreprise':Code_entreprise, \n",
    "        'Materiel':Materiel, \n",
    "        'Resume':Resume, \n",
    "        'Adresse_pdf':liste_pdf,\n",
    "    }\n",
    "    dict_data_list = {key: [value] for key, value in dict_data.items()}\n",
    "    df_temp = pd.DataFrame(dict_data_list)\n",
    "\n",
    "    # Concatenation\n",
    "    df_deja_analyse = pd.concat([df_deja_analyse, df_temp], axis=0, ignore_index = True)\n",
    "    df_deja_analyse.to_csv('Accident_database.csv', sep='|', index=False, encoding=\"utf-8\")\n",
    "\n",
    "    time.sleep(waiting_time)\n"
   ]
  },
  {
   "cell_type": "code",
   "execution_count": 16,
   "id": "8c4b7de7",
   "metadata": {},
   "outputs": [
    {
     "data": {
      "text/plain": [
       "(21430, 7)"
      ]
     },
     "execution_count": 16,
     "metadata": {},
     "output_type": "execute_result"
    }
   ],
   "source": [
    "df_deja_analyse.shape"
   ]
  },
  {
   "cell_type": "markdown",
   "id": "c73e0bee",
   "metadata": {},
   "source": [
    "At this step, we have a table of 21430 lines, corresponding to the number of #IDs, and 6 rows containing textual information"
   ]
  },
  {
   "cell_type": "code",
   "execution_count": 21,
   "id": "5c75f873",
   "metadata": {},
   "outputs": [
    {
     "ename": "NameError",
     "evalue": "name 'df_deja_analyse' is not defined",
     "output_type": "error",
     "traceback": [
      "\u001b[1;31m---------------------------------------------------------------------------\u001b[0m",
      "\u001b[1;31mNameError\u001b[0m                                 Traceback (most recent call last)",
      "Cell \u001b[1;32mIn[21], line 1\u001b[0m\n\u001b[1;32m----> 1\u001b[0m df_deja_analyse\u001b[38;5;241m.\u001b[39mhead()\n",
      "\u001b[1;31mNameError\u001b[0m: name 'df_deja_analyse' is not defined"
     ]
    }
   ],
   "source": [
    "df_deja_analyse.head()"
   ]
  },
  {
   "cell_type": "code",
   "execution_count": null,
   "id": "392dadb0",
   "metadata": {},
   "outputs": [],
   "source": [
    "df_deja_analyse.info()"
   ]
  },
  {
   "cell_type": "markdown",
   "id": "01bce764",
   "metadata": {},
   "source": [
    "# <div style=\"text-align: left; background-color: yellowgreen; color: white; padding: 10px; line-height:1;border-radius:10px\">3. Extraction of data from narratives</div>"
   ]
  },
  {
   "cell_type": "markdown",
   "id": "8f1edaa8",
   "metadata": {},
   "source": [
    "A part of the code will use prompt and variable name formulated in french. Because the data source in written in french, it is necessary, for better results, to write the prompts in french and to describe the expected output in french."
   ]
  },
  {
   "cell_type": "code",
   "execution_count": 139,
   "id": "b3e3aac3",
   "metadata": {},
   "outputs": [],
   "source": [
    "import xml.etree.ElementTree as ET\n",
    "import pandas as pd\n",
    "import numpy as np\n",
    "from tqdm import tqdm\n",
    "from ast import literal_eval\n",
    "from os.path import exists\n",
    "from pathlib import Path"
   ]
  },
  {
   "cell_type": "code",
   "execution_count": 140,
   "id": "9282e80f",
   "metadata": {},
   "outputs": [],
   "source": [
    "import sys\n",
    "sys.path.append(\"C:/Users/arnaud/AppData/Roaming/Python/Python312/site-packages/\")\n",
    "sys.path.append(\"C:/Windows/System32/\")\n",
    "sys.path.append(\"C:/Users/Arnaud/AppData/Roaming/Python/Python312/site-packages/onnxruntime/capi/\")\n",
    "# import pandas as pd\n",
    "from typing import Optional, Sequence, Generic, TypeVar, List\n",
    "from langchain_openai import OpenAI\n",
    "from langchain.output_parsers import PydanticOutputParser\n",
    "from langchain.prompts import PromptTemplate\n",
    "from pydantic import BaseModel, Field, Extra, validator\n",
    "from ollama import Client\n",
    "# For token counting\n",
    "import openai\n",
    "import pandas as pd\n",
    "import json\n",
    "from langchain.callbacks import get_openai_callback\n",
    "from langchain_openai import ChatOpenAI\n",
    "from langchain_mistralai import ChatMistralAI, MistralAIEmbeddings\n",
    "from langchain.prompts import PromptTemplate, ChatPromptTemplate, HumanMessagePromptTemplate\n",
    "from langchain_community.chat_models import ChatOllama\n",
    "from langchain_core.output_parsers import StrOutputParser\n",
    "from langchain_core.messages import HumanMessage\n",
    "import time"
   ]
  },
  {
   "cell_type": "code",
   "execution_count": 141,
   "id": "7af14998",
   "metadata": {},
   "outputs": [],
   "source": [
    "from tqdm import tqdm\n",
    "from urllib.request import urlopen\n",
    "import json\n",
    "import time\n",
    "import pandas as pd\n",
    "from io import StringIO\n",
    "import requests\n",
    "from bs4 import BeautifulSoup\n",
    "from selenium import webdriver\n",
    "from selenium.webdriver.chrome.options import Options\n",
    "from selenium.webdriver.common.by import By\n",
    "import re\n",
    "from IPython.display import Markdown as md"
   ]
  },
  {
   "cell_type": "code",
   "execution_count": 142,
   "id": "2fb499e7",
   "metadata": {},
   "outputs": [],
   "source": [
    "import json\n",
    "import pandas as pd\n",
    "from tqdm import tqdm\n",
    "from langchain.output_parsers import PydanticOutputParser\n",
    "from langchain.prompts import ChatPromptTemplate, HumanMessagePromptTemplate\n",
    "from langchain_community.chat_models import ChatOllama\n",
    "from pydantic import BaseModel, Field, Extra\n",
    "import datetime"
   ]
  },
  {
   "cell_type": "code",
   "execution_count": 143,
   "id": "97f1ba75",
   "metadata": {},
   "outputs": [],
   "source": [
    "import json\n",
    "import pandas as pd\n",
    "from tqdm import tqdm\n",
    "from langchain.output_parsers import PydanticOutputParser\n",
    "from langchain.prompts import ChatPromptTemplate, HumanMessagePromptTemplate\n",
    "from langchain_community.chat_models import ChatOllama\n",
    "from pydantic import BaseModel, Field, Extra, field_validator, ConfigDict\n",
    "from typing import List, Optional\n",
    "from enum import Enum"
   ]
  },
  {
   "cell_type": "code",
   "execution_count": 144,
   "id": "57a8def4",
   "metadata": {},
   "outputs": [],
   "source": [
    "from os.path import exists\n",
    "from pathlib import Path"
   ]
  },
  {
   "cell_type": "code",
   "execution_count": 145,
   "id": "777c27aa",
   "metadata": {},
   "outputs": [],
   "source": [
    "nom_modele = \"mistral\"\n",
    "csv_name = \"Accident_database_refined.csv\"\n",
    "\n",
    "path = Path(csv_name)\n",
    "if path.is_file():\n",
    "    df = pd.read_csv(csv_name, sep=\"|\")  \n",
    "else:\n",
    "    df = pd.read_csv('Accident_database.csv', sep=\"|\")\n",
    "    col = ['Metier', 'Sexe', 'Age', 'Type_accident', 'Blessure', 'Deces', 'Circulation', 'Malaise',\n",
    "          'Suicide','Machine', 'Cause', 'Zone']\n",
    "    for i in col + ['Status']:\n",
    "        df[i] = None\n",
    "    liste_valeurs = ['241GM', '274CG', '295EC', '2110Z', '2120Z', '244CB', '244DA', '4646Z', '4773Z', '514NA', '523AB', \n",
    "                     '1073Z', '1086Z', '1089Z', '157AB', '158VB']\n",
    "    df = df[df['Code_entreprise'].apply(lambda x: any(item in x for item in liste_valeurs))]\n",
    "    df = df[df['Numero_dossier']!=19258]"
   ]
  },
  {
   "cell_type": "code",
   "execution_count": 146,
   "id": "b1f606eb",
   "metadata": {},
   "outputs": [],
   "source": [
    "ref_non_analysees = df.loc[df['Status'].isnull(), 'Numero_dossier']\n",
    "liste_num = ref_non_analysees.tolist()"
   ]
  },
  {
   "cell_type": "code",
   "execution_count": 147,
   "id": "1041500a",
   "metadata": {},
   "outputs": [],
   "source": [
    "class BodyZone(str, Enum):\n",
    "    TETE = \"tete\"\n",
    "    TORSE = \"torse\"\n",
    "    VENTRE = \"ventre\"\n",
    "    DOS = \"dos\"\n",
    "    BRAS = \"bras\"\n",
    "    MAIN = \"main\"\n",
    "    JAMBE = \"jambe\"\n",
    "    PIED = \"pied\"\n",
    "    POSTERIEUR = \"posterieur\"\n",
    "    COEUR = \"coeur\"\n",
    "    NA = \"NA\""
   ]
  },
  {
   "cell_type": "code",
   "execution_count": 148,
   "id": "3d6e1ed4",
   "metadata": {},
   "outputs": [],
   "source": [
    "class Accident(BaseModel):\n",
    "    Metier: str = Field(description=\"Métier, rôle ou fonction de la victime ayant subi l'accident.\")\n",
    "    Sexe: str = Field(description=\"Sexe (Homme ou Femme) de la victime ayant subi l'accident.\")\n",
    "    Age: int = Field(description=\"Âge de la victime ayant subi l'accident.\")\n",
    "    \n",
    "    Type_accident: str = Field(description=\"Type d'accident survenu. 1 ou 2 mots maximum.\")\n",
    "    Blessure: str = Field(description=\"Descriptif médical des blessures ou symptômes. 1 ou 2 mots maximum.\")\n",
    "    \n",
    "    Deces: bool = Field(description=\"La victime est mentionnée comme décédée.\")\n",
    "    Circulation: bool = Field(description=\"Accident lié à la circulation.\")\n",
    "    Malaise: bool = Field(description=\"Accident lié à un malaise type AVC, infarctus, accident cardiaque.\")\n",
    "    Suicide: bool = Field(description=\"Accident lié à un suicide.\")\n",
    "    \n",
    "    Machine: List[str] = Field(description=\"Machines, pièces ou objets impliqués dans l'accident. 1 ou 2 mots maximum par élément.\")\n",
    "    Cause: List[str] = Field(description=\"Facteurs ayant causé directement ou ayant favorisé l'accident. 1 à 3 mots maximum par facteur.\")\n",
    "    Zone: BodyZone = Field(description=\"Zone du corps concernée par l'accident.\")\n",
    "        \n",
    "    @field_validator('Sexe')\n",
    "    @classmethod\n",
    "    def sexe_valide(cls, v):\n",
    "        if v.lower() not in ['homme', 'femme']:\n",
    "            raise ValueError('Le sexe doit être \"Homme\" ou \"Femme\"')\n",
    "        return v.capitalize()\n",
    "\n",
    "    @field_validator('Age')\n",
    "    @classmethod\n",
    "    def age_valide(cls, v):\n",
    "        if v is not None and (v < -1 or v > 120):\n",
    "            raise ValueError('L\\'âge doit être entre 0 et 120')\n",
    "        return v\n",
    "\n",
    "    @field_validator('Metier', 'Type_accident', 'Blessure')\n",
    "    @classmethod\n",
    "    def non_vide(cls, v):\n",
    "        if not v.strip():\n",
    "            raise ValueError('Ce champ ne peut pas être vide')\n",
    "        return v\n",
    "\n",
    "    @field_validator('Machine', 'Cause')\n",
    "    @classmethod\n",
    "    def liste_non_vide(cls, v):\n",
    "        if not v:\n",
    "            return ['Non spécifié']\n",
    "        return [item.strip() for item in v if item.strip()]\n",
    "\n",
    "    @field_validator('Zone')\n",
    "    @classmethod\n",
    "    def zone_valide(cls, v):\n",
    "        zone_mapping = {\n",
    "            'tete': ['crane', 'visage', 'cou', 'cerveau'],\n",
    "            'torse': ['poitrine', 'torse', 'poumon'],\n",
    "            'ventre': ['ventre', 'estomac'],\n",
    "            'dos': ['dos', 'epaule'],\n",
    "            'bras': ['bras', 'coude', 'epaule'],\n",
    "            'main': ['main', 'doigt', 'poignet'],\n",
    "            'jambe': ['genou', 'cuisse', 'mollet', 'tibia'],\n",
    "            'pied': ['pied', 'cheville'],\n",
    "            'posterieur': ['fesses'],\n",
    "            'coeur': ['coeur']\n",
    "        }\n",
    "        \n",
    "        v = v.lower()\n",
    "        for zone, keywords in zone_mapping.items():\n",
    "            if v in keywords:\n",
    "                return BodyZone(zone)\n",
    "        return BodyZone.NA\n",
    "\n",
    "    model_config = ConfigDict(\n",
    "        extra='forbid',\n",
    "        use_enum_values=True,\n",
    "        json_schema_extra={\n",
    "            'examples': [\n",
    "                {\n",
    "                    'Metier': 'Technicien de maintenance',\n",
    "                    'Sexe': 'Homme',\n",
    "                    'Age': 45,\n",
    "                    'Type_accident': 'Chute',\n",
    "                    'Blessure': 'Fracture',\n",
    "                    'Deces': False,\n",
    "                    'Circulation': False,\n",
    "                    'Malaise': False,\n",
    "                    'Suicide': False,\n",
    "                    'Machine': ['Échelle'],\n",
    "                    'Cause': ['Sol glissant', 'Manque d\\'EPI'],\n",
    "                    'Zone': 'jambe'\n",
    "                }\n",
    "            ]\n",
    "        }\n",
    "    )"
   ]
  },
  {
   "cell_type": "code",
   "execution_count": 149,
   "id": "163a37f6",
   "metadata": {},
   "outputs": [],
   "source": [
    "def standardize_metier(metier):\n",
    "    if isinstance(metier, list):\n",
    "        return ', '.join(metier)\n",
    "    return str(metier)"
   ]
  },
  {
   "cell_type": "code",
   "execution_count": 150,
   "id": "becd9d75",
   "metadata": {},
   "outputs": [],
   "source": [
    "def standardize_sex(sex):\n",
    "    sex = str(sex).lower()\n",
    "    sex = str(sex).replace(\",\", \"\")\n",
    "    sex = str(sex).replace(\"é\", \"e\")\n",
    "    sex = str(sex).replace(\"ou\", \"\")\n",
    "    sex = str(sex).replace(\"or\", \"\")\n",
    "    sex = str(sex).replace(\" \", \"\")\n",
    "    if sex in ['homme', 'masculin', 'male', 'm']:\n",
    "        return 'Homme'\n",
    "    elif sex in ['femme', 'feminin', 'female', 'f']:\n",
    "        return 'Femme'\n",
    "    elif sex in ['homme'] and sex in ['femme']:\n",
    "        return None\n",
    "    elif 'NA':\n",
    "        return None\n",
    "    elif sex == '':\n",
    "        return None\n",
    "    else:\n",
    "        return None"
   ]
  },
  {
   "cell_type": "code",
   "execution_count": 151,
   "id": "01eb4466",
   "metadata": {},
   "outputs": [],
   "source": [
    "def standardize_zone(zone):\n",
    "    zone_mapping = {\n",
    "        'tete': ['crane', 'visage', 'cou', 'cerveau'],\n",
    "        'torse': ['poitrine', 'torse', 'poumon'],\n",
    "        'ventre': ['ventre', 'estomac'],\n",
    "        'dos': ['dos', 'epaule'],\n",
    "        'bras': ['bras', 'coude', 'epaule'],\n",
    "        'main': ['main', 'doigt', 'poignet'],\n",
    "        'jambe': ['genou', 'cuisse', 'mollet', 'tibia'],\n",
    "        'pied': ['pied', 'cheville'],\n",
    "        'posterieur': ['fesses'],\n",
    "        'coeur': ['coeur']\n",
    "    }\n",
    "\n",
    "    zone = str(zone).lower()\n",
    "    for standard_zone, keywords in zone_mapping.items():\n",
    "        if zone in keywords or zone == standard_zone:\n",
    "            return standard_zone\n",
    "    return 'NA'"
   ]
  },
  {
   "cell_type": "code",
   "execution_count": 152,
   "id": "bb950362",
   "metadata": {},
   "outputs": [],
   "source": [
    "# Fonctions auxiliaires\n",
    "def parse_json_safely(json_string):\n",
    "    try:\n",
    "        return json.loads(json_string)\n",
    "    except json.JSONDecodeError as e:\n",
    "        print(f\"Erreur de parsing JSON : {e}\")\n",
    "        print(f\"Contenu problématique : {json_string}\")\n",
    "        # Tentative de nettoyage basique\n",
    "        cleaned = json_string.strip()\n",
    "        if cleaned.startswith(\"```json\"):\n",
    "            cleaned = cleaned[7:]\n",
    "        if cleaned.endswith(\"```\"):\n",
    "            cleaned = cleaned[:-3]\n",
    "        try:\n",
    "            return json.loads(cleaned)\n",
    "        except json.JSONDecodeError as e2:\n",
    "            print(f\"Échec du nettoyage : {e2}\")\n",
    "            return None"
   ]
  },
  {
   "cell_type": "code",
   "execution_count": 153,
   "id": "bb9a084a",
   "metadata": {},
   "outputs": [],
   "source": [
    "def validate_content(content_dict):\n",
    "    expected_keys = ['Metier', 'Sexe', 'Age', 'Type_accident', 'Blessure', 'Deces', 'Circulation', 'Malaise', 'Suicide', 'Machine', 'Cause']\n",
    "    present_keys = [key for key in expected_keys if key in content_dict]\n",
    "    missing_keys = [key for key in expected_keys if key not in content_dict]\n",
    "    if missing_keys:\n",
    "        print(f\"Clés manquantes : {missing_keys}\")\n",
    "    # On considère le contenu valide s'il contient au moins 3 champs\n",
    "    return len(present_keys) >= 3"
   ]
  },
  {
   "cell_type": "code",
   "execution_count": 154,
   "id": "820399d6",
   "metadata": {},
   "outputs": [],
   "source": [
    "def add_default_values(content_dict):\n",
    "    default_values = {\n",
    "        'Metier': None,\n",
    "        'Sexe': None,\n",
    "        'Age': None,\n",
    "        'Type_accident': None,\n",
    "        'Blessure': None,\n",
    "        'Deces': None,\n",
    "        'Circulation': None,\n",
    "        'Malaise': None,\n",
    "        'Suicide': None,\n",
    "        'Machine': None,\n",
    "        'Cause': None\n",
    "    }\n",
    "    for key, value in default_values.items():\n",
    "        if key not in content_dict:\n",
    "            content_dict[key] = value\n",
    "    return content_dict"
   ]
  },
  {
   "cell_type": "code",
   "execution_count": 155,
   "id": "37ee327e",
   "metadata": {},
   "outputs": [],
   "source": [
    "def clean_and_standardize_content(content_dict):\n",
    "    \n",
    "    for key, value in content_dict.items():\n",
    "        if key == 'Sexe':\n",
    "            content_dict[key] = standardize_sex(value)\n",
    "        elif key == 'Metier':\n",
    "            content_dict[key] = standardize_metier(value)\n",
    "        elif key == 'Zone':\n",
    "            content_dict[key] = standardize_zone(value)\n",
    "        elif isinstance(value, list):\n",
    "            content_dict[key] = ', '.join(map(str, value))\n",
    "        elif value is None:\n",
    "            content_dict[key] = 'Non spécifié'\n",
    "        elif isinstance(value, bool):\n",
    "            content_dict[key] = 'Oui' if value else 'Non'\n",
    "        else:\n",
    "            content_dict[key] = str(value)\n",
    "            \n",
    "    return content_dict"
   ]
  },
  {
   "cell_type": "code",
   "execution_count": 156,
   "id": "15379bb4",
   "metadata": {},
   "outputs": [],
   "source": [
    "def process_content_dict(content_dict):\n",
    "    \"\"\"\n",
    "    Traite le dictionnaire de contenu, qu'il soit déjà un dictionnaire\n",
    "    ou une chaîne JSON.\n",
    "    \"\"\"\n",
    "    if isinstance(content_dict, dict):\n",
    "        # Le contenu est déjà un dictionnaire, pas besoin de le parser\n",
    "        return content_dict\n",
    "    elif isinstance(content_dict, str):\n",
    "        # Le contenu est une chaîne JSON, on la parse\n",
    "        return json.loads(content_dict)\n",
    "    else:\n",
    "        # Type inattendu, on lève une exception\n",
    "        raise TypeError(f\"Type inattendu pour content_dict: {type(content_dict)}\")"
   ]
  },
  {
   "cell_type": "code",
   "execution_count": 157,
   "id": "35ad09b4",
   "metadata": {},
   "outputs": [],
   "source": [
    "# Configuration du modèle et du prompt\n",
    "pydantic_parser = PydanticOutputParser(pydantic_object=Accident)\n",
    "format_instructions = pydantic_parser.get_format_instructions()"
   ]
  },
  {
   "cell_type": "code",
   "execution_count": 158,
   "id": "462b194b",
   "metadata": {},
   "outputs": [],
   "source": [
    "template_string = \"\"\"Tu es un analyste français qui relit des compte-rendu d'accidents et effectue des saisies. \n",
    "Analyse le texte ci-dessous qui se trouve entre les triples apostrophes et extrais-en les informations requises. \n",
    "\n",
    "Descriptif de l'accident : ```{descriptif}```\n",
    "\n",
    "IMPORTANT:\n",
    "- Toutes tes réponses DOIVENT être en français.\n",
    "- Pour le champ 'Sexe', utilise UNIQUEMENT 'Homme' ou 'Femme'.\n",
    "- Le champ 'Metier' doit être une chaîne de caractères, et pas une liste.\n",
    "- Pour le champ 'Zone', utilise UNIQUEMENT l'une des valeurs suivantes selon la zone du corps concernée :\n",
    "  - 'tete' pour [crane, visage, cou, cerveau]\n",
    "  - 'torse' pour [poitrine, torse, poumon]\n",
    "  - 'ventre' pour [ventre, estomac]\n",
    "  - 'dos' pour [dos, epaule]\n",
    "  - 'bras' pour [bras, coude, epaule]\n",
    "  - 'main' pour [main, doigt, poignet]\n",
    "  - 'jambe' pour [genou, cuisse, mollet, tibia]\n",
    "  - 'pied' pour [pied, cheville]\n",
    "  - 'posterieur' pour [fesses]\n",
    "  - 'coeur' pour [coeur]\n",
    "  - 'NA' si l'information n'est pas présente\n",
    "- Si l'information n'apparait pas dans le narratif, utilise 'NA' pour les champs textuels, \n",
    "\n",
    "Ta réponse DOIT être un objet JSON valide, respectant strictement le schéma suivant. N'inclus AUCUN texte en dehors de cet objet JSON.\n",
    "\n",
    "{format_instructions}\n",
    "\"\"\""
   ]
  },
  {
   "cell_type": "code",
   "execution_count": 159,
   "id": "b2edd296",
   "metadata": {},
   "outputs": [],
   "source": [
    "prompt = ChatPromptTemplate(\n",
    "    messages=[\n",
    "        HumanMessagePromptTemplate.from_template(template_string)  \n",
    "    ],\n",
    "    input_variables=[\"descriptif\"],\n",
    "    partial_variables={\"format_instructions\": format_instructions}\n",
    ")"
   ]
  },
  {
   "cell_type": "code",
   "execution_count": 160,
   "id": "fddc7320",
   "metadata": {},
   "outputs": [],
   "source": [
    "# Configuration du modèle Ollama\n",
    "llm = ChatOllama(\n",
    "    model=nom_modele, \n",
    "    format=\"json\",\n",
    "    temperature=0,\n",
    "    top_k=10,\n",
    "    top_p=0.9,\n",
    "    repeat_penalty=1.1\n",
    ")"
   ]
  },
  {
   "cell_type": "code",
   "execution_count": 161,
   "id": "8f4eef66",
   "metadata": {
    "scrolled": true
   },
   "outputs": [
    {
     "name": "stderr",
     "output_type": "stream",
     "text": [
      "  0%|                                                                                           | 0/26 [02:38<?, ?it/s]\n"
     ]
    },
    {
     "ename": "KeyboardInterrupt",
     "evalue": "",
     "output_type": "error",
     "traceback": [
      "\u001b[1;31m---------------------------------------------------------------------------\u001b[0m",
      "\u001b[1;31mKeyboardInterrupt\u001b[0m                         Traceback (most recent call last)",
      "Cell \u001b[1;32mIn[161], line 8\u001b[0m\n\u001b[0;32m      5\u001b[0m descriptif \u001b[38;5;241m=\u001b[39m df\u001b[38;5;241m.\u001b[39mloc[df[\u001b[38;5;124m'\u001b[39m\u001b[38;5;124mNumero_dossier\u001b[39m\u001b[38;5;124m'\u001b[39m] \u001b[38;5;241m==\u001b[39m num, \u001b[38;5;124m'\u001b[39m\u001b[38;5;124mResume\u001b[39m\u001b[38;5;124m'\u001b[39m]\u001b[38;5;241m.\u001b[39mitem()\n\u001b[0;32m      6\u001b[0m messages \u001b[38;5;241m=\u001b[39m prompt\u001b[38;5;241m.\u001b[39mformat_messages(descriptif\u001b[38;5;241m=\u001b[39mdescriptif)\n\u001b[1;32m----> 8\u001b[0m chat_model_response \u001b[38;5;241m=\u001b[39m llm\u001b[38;5;241m.\u001b[39minvoke(messages)\n\u001b[0;32m      9\u001b[0m \u001b[38;5;28mprint\u001b[39m(\u001b[38;5;124mf\u001b[39m\u001b[38;5;124m\"\u001b[39m\u001b[38;5;124mRéponse brute pour le numéro \u001b[39m\u001b[38;5;132;01m{\u001b[39;00mnum\u001b[38;5;132;01m}\u001b[39;00m\u001b[38;5;124m:\u001b[39m\u001b[38;5;124m\"\u001b[39m)\n\u001b[0;32m     10\u001b[0m \u001b[38;5;28mprint\u001b[39m(datetime\u001b[38;5;241m.\u001b[39mdatetime\u001b[38;5;241m.\u001b[39mnow())\n",
      "File \u001b[1;32m~\\AppData\\Roaming\\Python\\Python311\\site-packages\\langchain_core\\language_models\\chat_models.py:154\u001b[0m, in \u001b[0;36mBaseChatModel.invoke\u001b[1;34m(self, input, config, stop, **kwargs)\u001b[0m\n\u001b[0;32m    143\u001b[0m \u001b[38;5;28;01mdef\u001b[39;00m \u001b[38;5;21minvoke\u001b[39m(\n\u001b[0;32m    144\u001b[0m     \u001b[38;5;28mself\u001b[39m,\n\u001b[0;32m    145\u001b[0m     \u001b[38;5;28minput\u001b[39m: LanguageModelInput,\n\u001b[1;32m   (...)\u001b[0m\n\u001b[0;32m    149\u001b[0m     \u001b[38;5;241m*\u001b[39m\u001b[38;5;241m*\u001b[39mkwargs: Any,\n\u001b[0;32m    150\u001b[0m ) \u001b[38;5;241m-\u001b[39m\u001b[38;5;241m>\u001b[39m BaseMessage:\n\u001b[0;32m    151\u001b[0m     config \u001b[38;5;241m=\u001b[39m ensure_config(config)\n\u001b[0;32m    152\u001b[0m     \u001b[38;5;28;01mreturn\u001b[39;00m cast(\n\u001b[0;32m    153\u001b[0m         ChatGeneration,\n\u001b[1;32m--> 154\u001b[0m         \u001b[38;5;28mself\u001b[39m\u001b[38;5;241m.\u001b[39mgenerate_prompt(\n\u001b[0;32m    155\u001b[0m             [\u001b[38;5;28mself\u001b[39m\u001b[38;5;241m.\u001b[39m_convert_input(\u001b[38;5;28minput\u001b[39m)],\n\u001b[0;32m    156\u001b[0m             stop\u001b[38;5;241m=\u001b[39mstop,\n\u001b[0;32m    157\u001b[0m             callbacks\u001b[38;5;241m=\u001b[39mconfig\u001b[38;5;241m.\u001b[39mget(\u001b[38;5;124m\"\u001b[39m\u001b[38;5;124mcallbacks\u001b[39m\u001b[38;5;124m\"\u001b[39m),\n\u001b[0;32m    158\u001b[0m             tags\u001b[38;5;241m=\u001b[39mconfig\u001b[38;5;241m.\u001b[39mget(\u001b[38;5;124m\"\u001b[39m\u001b[38;5;124mtags\u001b[39m\u001b[38;5;124m\"\u001b[39m),\n\u001b[0;32m    159\u001b[0m             metadata\u001b[38;5;241m=\u001b[39mconfig\u001b[38;5;241m.\u001b[39mget(\u001b[38;5;124m\"\u001b[39m\u001b[38;5;124mmetadata\u001b[39m\u001b[38;5;124m\"\u001b[39m),\n\u001b[0;32m    160\u001b[0m             run_name\u001b[38;5;241m=\u001b[39mconfig\u001b[38;5;241m.\u001b[39mget(\u001b[38;5;124m\"\u001b[39m\u001b[38;5;124mrun_name\u001b[39m\u001b[38;5;124m\"\u001b[39m),\n\u001b[0;32m    161\u001b[0m             \u001b[38;5;241m*\u001b[39m\u001b[38;5;241m*\u001b[39mkwargs,\n\u001b[0;32m    162\u001b[0m         )\u001b[38;5;241m.\u001b[39mgenerations[\u001b[38;5;241m0\u001b[39m][\u001b[38;5;241m0\u001b[39m],\n\u001b[0;32m    163\u001b[0m     )\u001b[38;5;241m.\u001b[39mmessage\n",
      "File \u001b[1;32m~\\AppData\\Roaming\\Python\\Python311\\site-packages\\langchain_core\\language_models\\chat_models.py:554\u001b[0m, in \u001b[0;36mBaseChatModel.generate_prompt\u001b[1;34m(self, prompts, stop, callbacks, **kwargs)\u001b[0m\n\u001b[0;32m    546\u001b[0m \u001b[38;5;28;01mdef\u001b[39;00m \u001b[38;5;21mgenerate_prompt\u001b[39m(\n\u001b[0;32m    547\u001b[0m     \u001b[38;5;28mself\u001b[39m,\n\u001b[0;32m    548\u001b[0m     prompts: List[PromptValue],\n\u001b[1;32m   (...)\u001b[0m\n\u001b[0;32m    551\u001b[0m     \u001b[38;5;241m*\u001b[39m\u001b[38;5;241m*\u001b[39mkwargs: Any,\n\u001b[0;32m    552\u001b[0m ) \u001b[38;5;241m-\u001b[39m\u001b[38;5;241m>\u001b[39m LLMResult:\n\u001b[0;32m    553\u001b[0m     prompt_messages \u001b[38;5;241m=\u001b[39m [p\u001b[38;5;241m.\u001b[39mto_messages() \u001b[38;5;28;01mfor\u001b[39;00m p \u001b[38;5;129;01min\u001b[39;00m prompts]\n\u001b[1;32m--> 554\u001b[0m     \u001b[38;5;28;01mreturn\u001b[39;00m \u001b[38;5;28mself\u001b[39m\u001b[38;5;241m.\u001b[39mgenerate(prompt_messages, stop\u001b[38;5;241m=\u001b[39mstop, callbacks\u001b[38;5;241m=\u001b[39mcallbacks, \u001b[38;5;241m*\u001b[39m\u001b[38;5;241m*\u001b[39mkwargs)\n",
      "File \u001b[1;32m~\\AppData\\Roaming\\Python\\Python311\\site-packages\\langchain_core\\language_models\\chat_models.py:415\u001b[0m, in \u001b[0;36mBaseChatModel.generate\u001b[1;34m(self, messages, stop, callbacks, tags, metadata, run_name, run_id, **kwargs)\u001b[0m\n\u001b[0;32m    413\u001b[0m         \u001b[38;5;28;01mif\u001b[39;00m run_managers:\n\u001b[0;32m    414\u001b[0m             run_managers[i]\u001b[38;5;241m.\u001b[39mon_llm_error(e, response\u001b[38;5;241m=\u001b[39mLLMResult(generations\u001b[38;5;241m=\u001b[39m[]))\n\u001b[1;32m--> 415\u001b[0m         \u001b[38;5;28;01mraise\u001b[39;00m e\n\u001b[0;32m    416\u001b[0m flattened_outputs \u001b[38;5;241m=\u001b[39m [\n\u001b[0;32m    417\u001b[0m     LLMResult(generations\u001b[38;5;241m=\u001b[39m[res\u001b[38;5;241m.\u001b[39mgenerations], llm_output\u001b[38;5;241m=\u001b[39mres\u001b[38;5;241m.\u001b[39mllm_output)  \u001b[38;5;66;03m# type: ignore[list-item]\u001b[39;00m\n\u001b[0;32m    418\u001b[0m     \u001b[38;5;28;01mfor\u001b[39;00m res \u001b[38;5;129;01min\u001b[39;00m results\n\u001b[0;32m    419\u001b[0m ]\n\u001b[0;32m    420\u001b[0m llm_output \u001b[38;5;241m=\u001b[39m \u001b[38;5;28mself\u001b[39m\u001b[38;5;241m.\u001b[39m_combine_llm_outputs([res\u001b[38;5;241m.\u001b[39mllm_output \u001b[38;5;28;01mfor\u001b[39;00m res \u001b[38;5;129;01min\u001b[39;00m results])\n",
      "File \u001b[1;32m~\\AppData\\Roaming\\Python\\Python311\\site-packages\\langchain_core\\language_models\\chat_models.py:405\u001b[0m, in \u001b[0;36mBaseChatModel.generate\u001b[1;34m(self, messages, stop, callbacks, tags, metadata, run_name, run_id, **kwargs)\u001b[0m\n\u001b[0;32m    402\u001b[0m \u001b[38;5;28;01mfor\u001b[39;00m i, m \u001b[38;5;129;01min\u001b[39;00m \u001b[38;5;28menumerate\u001b[39m(messages):\n\u001b[0;32m    403\u001b[0m     \u001b[38;5;28;01mtry\u001b[39;00m:\n\u001b[0;32m    404\u001b[0m         results\u001b[38;5;241m.\u001b[39mappend(\n\u001b[1;32m--> 405\u001b[0m             \u001b[38;5;28mself\u001b[39m\u001b[38;5;241m.\u001b[39m_generate_with_cache(\n\u001b[0;32m    406\u001b[0m                 m,\n\u001b[0;32m    407\u001b[0m                 stop\u001b[38;5;241m=\u001b[39mstop,\n\u001b[0;32m    408\u001b[0m                 run_manager\u001b[38;5;241m=\u001b[39mrun_managers[i] \u001b[38;5;28;01mif\u001b[39;00m run_managers \u001b[38;5;28;01melse\u001b[39;00m \u001b[38;5;28;01mNone\u001b[39;00m,\n\u001b[0;32m    409\u001b[0m                 \u001b[38;5;241m*\u001b[39m\u001b[38;5;241m*\u001b[39mkwargs,\n\u001b[0;32m    410\u001b[0m             )\n\u001b[0;32m    411\u001b[0m         )\n\u001b[0;32m    412\u001b[0m     \u001b[38;5;28;01mexcept\u001b[39;00m \u001b[38;5;167;01mBaseException\u001b[39;00m \u001b[38;5;28;01mas\u001b[39;00m e:\n\u001b[0;32m    413\u001b[0m         \u001b[38;5;28;01mif\u001b[39;00m run_managers:\n",
      "File \u001b[1;32m~\\AppData\\Roaming\\Python\\Python311\\site-packages\\langchain_core\\language_models\\chat_models.py:624\u001b[0m, in \u001b[0;36mBaseChatModel._generate_with_cache\u001b[1;34m(self, messages, stop, run_manager, **kwargs)\u001b[0m\n\u001b[0;32m    622\u001b[0m \u001b[38;5;28;01melse\u001b[39;00m:\n\u001b[0;32m    623\u001b[0m     \u001b[38;5;28;01mif\u001b[39;00m inspect\u001b[38;5;241m.\u001b[39msignature(\u001b[38;5;28mself\u001b[39m\u001b[38;5;241m.\u001b[39m_generate)\u001b[38;5;241m.\u001b[39mparameters\u001b[38;5;241m.\u001b[39mget(\u001b[38;5;124m\"\u001b[39m\u001b[38;5;124mrun_manager\u001b[39m\u001b[38;5;124m\"\u001b[39m):\n\u001b[1;32m--> 624\u001b[0m         result \u001b[38;5;241m=\u001b[39m \u001b[38;5;28mself\u001b[39m\u001b[38;5;241m.\u001b[39m_generate(\n\u001b[0;32m    625\u001b[0m             messages, stop\u001b[38;5;241m=\u001b[39mstop, run_manager\u001b[38;5;241m=\u001b[39mrun_manager, \u001b[38;5;241m*\u001b[39m\u001b[38;5;241m*\u001b[39mkwargs\n\u001b[0;32m    626\u001b[0m         )\n\u001b[0;32m    627\u001b[0m     \u001b[38;5;28;01melse\u001b[39;00m:\n\u001b[0;32m    628\u001b[0m         result \u001b[38;5;241m=\u001b[39m \u001b[38;5;28mself\u001b[39m\u001b[38;5;241m.\u001b[39m_generate(messages, stop\u001b[38;5;241m=\u001b[39mstop, \u001b[38;5;241m*\u001b[39m\u001b[38;5;241m*\u001b[39mkwargs)\n",
      "File \u001b[1;32m~\\AppData\\Roaming\\Python\\Python311\\site-packages\\langchain_community\\chat_models\\ollama.py:257\u001b[0m, in \u001b[0;36mChatOllama._generate\u001b[1;34m(self, messages, stop, run_manager, **kwargs)\u001b[0m\n\u001b[0;32m    233\u001b[0m \u001b[38;5;28;01mdef\u001b[39;00m \u001b[38;5;21m_generate\u001b[39m(\n\u001b[0;32m    234\u001b[0m     \u001b[38;5;28mself\u001b[39m,\n\u001b[0;32m    235\u001b[0m     messages: List[BaseMessage],\n\u001b[1;32m   (...)\u001b[0m\n\u001b[0;32m    238\u001b[0m     \u001b[38;5;241m*\u001b[39m\u001b[38;5;241m*\u001b[39mkwargs: Any,\n\u001b[0;32m    239\u001b[0m ) \u001b[38;5;241m-\u001b[39m\u001b[38;5;241m>\u001b[39m ChatResult:\n\u001b[0;32m    240\u001b[0m \u001b[38;5;250m    \u001b[39m\u001b[38;5;124;03m\"\"\"Call out to Ollama's generate endpoint.\u001b[39;00m\n\u001b[0;32m    241\u001b[0m \n\u001b[0;32m    242\u001b[0m \u001b[38;5;124;03m    Args:\u001b[39;00m\n\u001b[1;32m   (...)\u001b[0m\n\u001b[0;32m    254\u001b[0m \u001b[38;5;124;03m            ])\u001b[39;00m\n\u001b[0;32m    255\u001b[0m \u001b[38;5;124;03m    \"\"\"\u001b[39;00m\n\u001b[1;32m--> 257\u001b[0m     final_chunk \u001b[38;5;241m=\u001b[39m \u001b[38;5;28mself\u001b[39m\u001b[38;5;241m.\u001b[39m_chat_stream_with_aggregation(\n\u001b[0;32m    258\u001b[0m         messages,\n\u001b[0;32m    259\u001b[0m         stop\u001b[38;5;241m=\u001b[39mstop,\n\u001b[0;32m    260\u001b[0m         run_manager\u001b[38;5;241m=\u001b[39mrun_manager,\n\u001b[0;32m    261\u001b[0m         verbose\u001b[38;5;241m=\u001b[39m\u001b[38;5;28mself\u001b[39m\u001b[38;5;241m.\u001b[39mverbose,\n\u001b[0;32m    262\u001b[0m         \u001b[38;5;241m*\u001b[39m\u001b[38;5;241m*\u001b[39mkwargs,\n\u001b[0;32m    263\u001b[0m     )\n\u001b[0;32m    264\u001b[0m     chat_generation \u001b[38;5;241m=\u001b[39m ChatGeneration(\n\u001b[0;32m    265\u001b[0m         message\u001b[38;5;241m=\u001b[39mAIMessage(content\u001b[38;5;241m=\u001b[39mfinal_chunk\u001b[38;5;241m.\u001b[39mtext),\n\u001b[0;32m    266\u001b[0m         generation_info\u001b[38;5;241m=\u001b[39mfinal_chunk\u001b[38;5;241m.\u001b[39mgeneration_info,\n\u001b[0;32m    267\u001b[0m     )\n\u001b[0;32m    268\u001b[0m     \u001b[38;5;28;01mreturn\u001b[39;00m ChatResult(generations\u001b[38;5;241m=\u001b[39m[chat_generation])\n",
      "File \u001b[1;32m~\\AppData\\Roaming\\Python\\Python311\\site-packages\\langchain_community\\chat_models\\ollama.py:188\u001b[0m, in \u001b[0;36mChatOllama._chat_stream_with_aggregation\u001b[1;34m(self, messages, stop, run_manager, verbose, **kwargs)\u001b[0m\n\u001b[0;32m    179\u001b[0m \u001b[38;5;28;01mdef\u001b[39;00m \u001b[38;5;21m_chat_stream_with_aggregation\u001b[39m(\n\u001b[0;32m    180\u001b[0m     \u001b[38;5;28mself\u001b[39m,\n\u001b[0;32m    181\u001b[0m     messages: List[BaseMessage],\n\u001b[1;32m   (...)\u001b[0m\n\u001b[0;32m    185\u001b[0m     \u001b[38;5;241m*\u001b[39m\u001b[38;5;241m*\u001b[39mkwargs: Any,\n\u001b[0;32m    186\u001b[0m ) \u001b[38;5;241m-\u001b[39m\u001b[38;5;241m>\u001b[39m ChatGenerationChunk:\n\u001b[0;32m    187\u001b[0m     final_chunk: Optional[ChatGenerationChunk] \u001b[38;5;241m=\u001b[39m \u001b[38;5;28;01mNone\u001b[39;00m\n\u001b[1;32m--> 188\u001b[0m     \u001b[38;5;28;01mfor\u001b[39;00m stream_resp \u001b[38;5;129;01min\u001b[39;00m \u001b[38;5;28mself\u001b[39m\u001b[38;5;241m.\u001b[39m_create_chat_stream(messages, stop, \u001b[38;5;241m*\u001b[39m\u001b[38;5;241m*\u001b[39mkwargs):\n\u001b[0;32m    189\u001b[0m         \u001b[38;5;28;01mif\u001b[39;00m stream_resp:\n\u001b[0;32m    190\u001b[0m             chunk \u001b[38;5;241m=\u001b[39m _chat_stream_response_to_chat_generation_chunk(stream_resp)\n",
      "File \u001b[1;32m~\\AppData\\Roaming\\Python\\Python311\\site-packages\\langchain_community\\chat_models\\ollama.py:161\u001b[0m, in \u001b[0;36mChatOllama._create_chat_stream\u001b[1;34m(self, messages, stop, **kwargs)\u001b[0m\n\u001b[0;32m    152\u001b[0m \u001b[38;5;28;01mdef\u001b[39;00m \u001b[38;5;21m_create_chat_stream\u001b[39m(\n\u001b[0;32m    153\u001b[0m     \u001b[38;5;28mself\u001b[39m,\n\u001b[0;32m    154\u001b[0m     messages: List[BaseMessage],\n\u001b[0;32m    155\u001b[0m     stop: Optional[List[\u001b[38;5;28mstr\u001b[39m]] \u001b[38;5;241m=\u001b[39m \u001b[38;5;28;01mNone\u001b[39;00m,\n\u001b[0;32m    156\u001b[0m     \u001b[38;5;241m*\u001b[39m\u001b[38;5;241m*\u001b[39mkwargs: Any,\n\u001b[0;32m    157\u001b[0m ) \u001b[38;5;241m-\u001b[39m\u001b[38;5;241m>\u001b[39m Iterator[\u001b[38;5;28mstr\u001b[39m]:\n\u001b[0;32m    158\u001b[0m     payload \u001b[38;5;241m=\u001b[39m {\n\u001b[0;32m    159\u001b[0m         \u001b[38;5;124m\"\u001b[39m\u001b[38;5;124mmessages\u001b[39m\u001b[38;5;124m\"\u001b[39m: \u001b[38;5;28mself\u001b[39m\u001b[38;5;241m.\u001b[39m_convert_messages_to_ollama_messages(messages),\n\u001b[0;32m    160\u001b[0m     }\n\u001b[1;32m--> 161\u001b[0m     \u001b[38;5;28;01myield from\u001b[39;00m \u001b[38;5;28mself\u001b[39m\u001b[38;5;241m.\u001b[39m_create_stream(\n\u001b[0;32m    162\u001b[0m         payload\u001b[38;5;241m=\u001b[39mpayload, stop\u001b[38;5;241m=\u001b[39mstop, api_url\u001b[38;5;241m=\u001b[39m\u001b[38;5;124mf\u001b[39m\u001b[38;5;124m\"\u001b[39m\u001b[38;5;132;01m{\u001b[39;00m\u001b[38;5;28mself\u001b[39m\u001b[38;5;241m.\u001b[39mbase_url\u001b[38;5;132;01m}\u001b[39;00m\u001b[38;5;124m/api/chat\u001b[39m\u001b[38;5;124m\"\u001b[39m, \u001b[38;5;241m*\u001b[39m\u001b[38;5;241m*\u001b[39mkwargs\n\u001b[0;32m    163\u001b[0m     )\n",
      "File \u001b[1;32m~\\AppData\\Roaming\\Python\\Python311\\site-packages\\requests\\models.py:869\u001b[0m, in \u001b[0;36mResponse.iter_lines\u001b[1;34m(self, chunk_size, decode_unicode, delimiter)\u001b[0m\n\u001b[0;32m    860\u001b[0m \u001b[38;5;250m\u001b[39m\u001b[38;5;124;03m\"\"\"Iterates over the response data, one line at a time.  When\u001b[39;00m\n\u001b[0;32m    861\u001b[0m \u001b[38;5;124;03mstream=True is set on the request, this avoids reading the\u001b[39;00m\n\u001b[0;32m    862\u001b[0m \u001b[38;5;124;03mcontent at once into memory for large responses.\u001b[39;00m\n\u001b[0;32m    863\u001b[0m \n\u001b[0;32m    864\u001b[0m \u001b[38;5;124;03m.. note:: This method is not reentrant safe.\u001b[39;00m\n\u001b[0;32m    865\u001b[0m \u001b[38;5;124;03m\"\"\"\u001b[39;00m\n\u001b[0;32m    867\u001b[0m pending \u001b[38;5;241m=\u001b[39m \u001b[38;5;28;01mNone\u001b[39;00m\n\u001b[1;32m--> 869\u001b[0m \u001b[38;5;28;01mfor\u001b[39;00m chunk \u001b[38;5;129;01min\u001b[39;00m \u001b[38;5;28mself\u001b[39m\u001b[38;5;241m.\u001b[39miter_content(\n\u001b[0;32m    870\u001b[0m     chunk_size\u001b[38;5;241m=\u001b[39mchunk_size, decode_unicode\u001b[38;5;241m=\u001b[39mdecode_unicode\n\u001b[0;32m    871\u001b[0m ):\n\u001b[0;32m    872\u001b[0m     \u001b[38;5;28;01mif\u001b[39;00m pending \u001b[38;5;129;01mis\u001b[39;00m \u001b[38;5;129;01mnot\u001b[39;00m \u001b[38;5;28;01mNone\u001b[39;00m:\n\u001b[0;32m    873\u001b[0m         chunk \u001b[38;5;241m=\u001b[39m pending \u001b[38;5;241m+\u001b[39m chunk\n",
      "File \u001b[1;32m~\\AppData\\Roaming\\Python\\Python311\\site-packages\\requests\\utils.py:572\u001b[0m, in \u001b[0;36mstream_decode_response_unicode\u001b[1;34m(iterator, r)\u001b[0m\n\u001b[0;32m    569\u001b[0m     \u001b[38;5;28;01mreturn\u001b[39;00m\n\u001b[0;32m    571\u001b[0m decoder \u001b[38;5;241m=\u001b[39m codecs\u001b[38;5;241m.\u001b[39mgetincrementaldecoder(r\u001b[38;5;241m.\u001b[39mencoding)(errors\u001b[38;5;241m=\u001b[39m\u001b[38;5;124m\"\u001b[39m\u001b[38;5;124mreplace\u001b[39m\u001b[38;5;124m\"\u001b[39m)\n\u001b[1;32m--> 572\u001b[0m \u001b[38;5;28;01mfor\u001b[39;00m chunk \u001b[38;5;129;01min\u001b[39;00m iterator:\n\u001b[0;32m    573\u001b[0m     rv \u001b[38;5;241m=\u001b[39m decoder\u001b[38;5;241m.\u001b[39mdecode(chunk)\n\u001b[0;32m    574\u001b[0m     \u001b[38;5;28;01mif\u001b[39;00m rv:\n",
      "File \u001b[1;32m~\\AppData\\Roaming\\Python\\Python311\\site-packages\\requests\\models.py:820\u001b[0m, in \u001b[0;36mResponse.iter_content.<locals>.generate\u001b[1;34m()\u001b[0m\n\u001b[0;32m    818\u001b[0m \u001b[38;5;28;01mif\u001b[39;00m \u001b[38;5;28mhasattr\u001b[39m(\u001b[38;5;28mself\u001b[39m\u001b[38;5;241m.\u001b[39mraw, \u001b[38;5;124m\"\u001b[39m\u001b[38;5;124mstream\u001b[39m\u001b[38;5;124m\"\u001b[39m):\n\u001b[0;32m    819\u001b[0m     \u001b[38;5;28;01mtry\u001b[39;00m:\n\u001b[1;32m--> 820\u001b[0m         \u001b[38;5;28;01myield from\u001b[39;00m \u001b[38;5;28mself\u001b[39m\u001b[38;5;241m.\u001b[39mraw\u001b[38;5;241m.\u001b[39mstream(chunk_size, decode_content\u001b[38;5;241m=\u001b[39m\u001b[38;5;28;01mTrue\u001b[39;00m)\n\u001b[0;32m    821\u001b[0m     \u001b[38;5;28;01mexcept\u001b[39;00m ProtocolError \u001b[38;5;28;01mas\u001b[39;00m e:\n\u001b[0;32m    822\u001b[0m         \u001b[38;5;28;01mraise\u001b[39;00m ChunkedEncodingError(e)\n",
      "File \u001b[1;32mC:\\ProgramData\\anaconda3\\Lib\\site-packages\\urllib3\\response.py:624\u001b[0m, in \u001b[0;36mHTTPResponse.stream\u001b[1;34m(self, amt, decode_content)\u001b[0m\n\u001b[0;32m    608\u001b[0m \u001b[38;5;250m\u001b[39m\u001b[38;5;124;03m\"\"\"\u001b[39;00m\n\u001b[0;32m    609\u001b[0m \u001b[38;5;124;03mA generator wrapper for the read() method. A call will block until\u001b[39;00m\n\u001b[0;32m    610\u001b[0m \u001b[38;5;124;03m``amt`` bytes have been read from the connection or until the\u001b[39;00m\n\u001b[1;32m   (...)\u001b[0m\n\u001b[0;32m    621\u001b[0m \u001b[38;5;124;03m    'content-encoding' header.\u001b[39;00m\n\u001b[0;32m    622\u001b[0m \u001b[38;5;124;03m\"\"\"\u001b[39;00m\n\u001b[0;32m    623\u001b[0m \u001b[38;5;28;01mif\u001b[39;00m \u001b[38;5;28mself\u001b[39m\u001b[38;5;241m.\u001b[39mchunked \u001b[38;5;129;01mand\u001b[39;00m \u001b[38;5;28mself\u001b[39m\u001b[38;5;241m.\u001b[39msupports_chunked_reads():\n\u001b[1;32m--> 624\u001b[0m     \u001b[38;5;28;01mfor\u001b[39;00m line \u001b[38;5;129;01min\u001b[39;00m \u001b[38;5;28mself\u001b[39m\u001b[38;5;241m.\u001b[39mread_chunked(amt, decode_content\u001b[38;5;241m=\u001b[39mdecode_content):\n\u001b[0;32m    625\u001b[0m         \u001b[38;5;28;01myield\u001b[39;00m line\n\u001b[0;32m    626\u001b[0m \u001b[38;5;28;01melse\u001b[39;00m:\n",
      "File \u001b[1;32mC:\\ProgramData\\anaconda3\\Lib\\site-packages\\urllib3\\response.py:828\u001b[0m, in \u001b[0;36mHTTPResponse.read_chunked\u001b[1;34m(self, amt, decode_content)\u001b[0m\n\u001b[0;32m    825\u001b[0m     \u001b[38;5;28;01mreturn\u001b[39;00m\n\u001b[0;32m    827\u001b[0m \u001b[38;5;28;01mwhile\u001b[39;00m \u001b[38;5;28;01mTrue\u001b[39;00m:\n\u001b[1;32m--> 828\u001b[0m     \u001b[38;5;28mself\u001b[39m\u001b[38;5;241m.\u001b[39m_update_chunk_length()\n\u001b[0;32m    829\u001b[0m     \u001b[38;5;28;01mif\u001b[39;00m \u001b[38;5;28mself\u001b[39m\u001b[38;5;241m.\u001b[39mchunk_left \u001b[38;5;241m==\u001b[39m \u001b[38;5;241m0\u001b[39m:\n\u001b[0;32m    830\u001b[0m         \u001b[38;5;28;01mbreak\u001b[39;00m\n",
      "File \u001b[1;32mC:\\ProgramData\\anaconda3\\Lib\\site-packages\\urllib3\\response.py:758\u001b[0m, in \u001b[0;36mHTTPResponse._update_chunk_length\u001b[1;34m(self)\u001b[0m\n\u001b[0;32m    756\u001b[0m \u001b[38;5;28;01mif\u001b[39;00m \u001b[38;5;28mself\u001b[39m\u001b[38;5;241m.\u001b[39mchunk_left \u001b[38;5;129;01mis\u001b[39;00m \u001b[38;5;129;01mnot\u001b[39;00m \u001b[38;5;28;01mNone\u001b[39;00m:\n\u001b[0;32m    757\u001b[0m     \u001b[38;5;28;01mreturn\u001b[39;00m\n\u001b[1;32m--> 758\u001b[0m line \u001b[38;5;241m=\u001b[39m \u001b[38;5;28mself\u001b[39m\u001b[38;5;241m.\u001b[39m_fp\u001b[38;5;241m.\u001b[39mfp\u001b[38;5;241m.\u001b[39mreadline()\n\u001b[0;32m    759\u001b[0m line \u001b[38;5;241m=\u001b[39m line\u001b[38;5;241m.\u001b[39msplit(\u001b[38;5;124mb\u001b[39m\u001b[38;5;124m\"\u001b[39m\u001b[38;5;124m;\u001b[39m\u001b[38;5;124m\"\u001b[39m, \u001b[38;5;241m1\u001b[39m)[\u001b[38;5;241m0\u001b[39m]\n\u001b[0;32m    760\u001b[0m \u001b[38;5;28;01mtry\u001b[39;00m:\n",
      "File \u001b[1;32mC:\\ProgramData\\anaconda3\\Lib\\socket.py:706\u001b[0m, in \u001b[0;36mSocketIO.readinto\u001b[1;34m(self, b)\u001b[0m\n\u001b[0;32m    704\u001b[0m \u001b[38;5;28;01mwhile\u001b[39;00m \u001b[38;5;28;01mTrue\u001b[39;00m:\n\u001b[0;32m    705\u001b[0m     \u001b[38;5;28;01mtry\u001b[39;00m:\n\u001b[1;32m--> 706\u001b[0m         \u001b[38;5;28;01mreturn\u001b[39;00m \u001b[38;5;28mself\u001b[39m\u001b[38;5;241m.\u001b[39m_sock\u001b[38;5;241m.\u001b[39mrecv_into(b)\n\u001b[0;32m    707\u001b[0m     \u001b[38;5;28;01mexcept\u001b[39;00m timeout:\n\u001b[0;32m    708\u001b[0m         \u001b[38;5;28mself\u001b[39m\u001b[38;5;241m.\u001b[39m_timeout_occurred \u001b[38;5;241m=\u001b[39m \u001b[38;5;28;01mTrue\u001b[39;00m\n",
      "\u001b[1;31mKeyboardInterrupt\u001b[0m: "
     ]
    }
   ],
   "source": [
    "start_time = time.time()\n",
    "\n",
    "# Boucle principale\n",
    "for num in tqdm(liste_num[7:]):\n",
    "    descriptif = df.loc[df['Numero_dossier'] == num, 'Resume'].item()\n",
    "    messages = prompt.format_messages(descriptif=descriptif)\n",
    "\n",
    "    chat_model_response = llm.invoke(messages)\n",
    "    print(f\"Réponse brute pour le numéro {num}:\")\n",
    "    print(datetime.datetime.now())\n",
    "    print(chat_model_response.content)\n",
    "\n",
    "    content_dict = parse_json_safely(chat_model_response.content)\n",
    "\n",
    "    if content_dict:\n",
    "        content_dict = process_content_dict(content_dict)\n",
    "        content_dict = add_default_values(content_dict)\n",
    "        content_dict = clean_and_standardize_content(content_dict)\n",
    "\n",
    "        if validate_content(content_dict):\n",
    "            for j in content_dict.keys():\n",
    "                df.loc[df['Numero_dossier'] == num, j] = content_dict[j]\n",
    "            df.loc[df['Numero_dossier'] == num, 'Status'] = 'Analysé'\n",
    "        else:\n",
    "            print(f\"Avertissement : Résultat incomplet pour le numéro {num}\")\n",
    "            print(f\"Contenu du dictionnaire : {content_dict}\")\n",
    "    else:\n",
    "        print(f\"Erreur : Impossible de parser le résultat pour le numéro {num}\")\n",
    "        print(f\"Descriptif pour le numéro {num}:\")\n",
    "        print(descriptif)\n",
    "        continue\n",
    "\n",
    "    # Sauvegarde incrémentale\n",
    "    nom_csv = 'Accident_database_refined.csv'\n",
    "    df.to_csv(nom_csv, sep='|', index=False, encoding=\"utf-8\")\n",
    "    \n",
    "        \n",
    "inference_time = \"--- %s seconds ---\" % (time.time() - start_time)\n",
    "print(\"Analyse terminée.\")\n",
    "print(inference_time)"
   ]
  },
  {
   "cell_type": "code",
   "execution_count": null,
   "id": "01b08fbf",
   "metadata": {},
   "outputs": [],
   "source": []
  },
  {
   "cell_type": "code",
   "execution_count": null,
   "id": "a1f0c14a",
   "metadata": {},
   "outputs": [],
   "source": []
  },
  {
   "cell_type": "code",
   "execution_count": 73,
   "id": "a49601d7",
   "metadata": {},
   "outputs": [
    {
     "data": {
      "text/html": [
       "<div>\n",
       "<style scoped>\n",
       "    .dataframe tbody tr th:only-of-type {\n",
       "        vertical-align: middle;\n",
       "    }\n",
       "\n",
       "    .dataframe tbody tr th {\n",
       "        vertical-align: top;\n",
       "    }\n",
       "\n",
       "    .dataframe thead th {\n",
       "        text-align: right;\n",
       "    }\n",
       "</style>\n",
       "<table border=\"1\" class=\"dataframe\">\n",
       "  <thead>\n",
       "    <tr style=\"text-align: right;\">\n",
       "      <th></th>\n",
       "      <th>Ref</th>\n",
       "      <th>Numero_dossier</th>\n",
       "      <th>Comite</th>\n",
       "      <th>Code_entreprise</th>\n",
       "      <th>Materiel</th>\n",
       "      <th>Resume</th>\n",
       "      <th>Adresse_pdf</th>\n",
       "      <th>Metier</th>\n",
       "      <th>Sexe</th>\n",
       "      <th>Age</th>\n",
       "      <th>Junior</th>\n",
       "      <th>Type_accident</th>\n",
       "      <th>Blessure</th>\n",
       "      <th>Deces</th>\n",
       "      <th>Circulation</th>\n",
       "      <th>Malaise</th>\n",
       "      <th>Suicide</th>\n",
       "      <th>Machine</th>\n",
       "      <th>Cause</th>\n",
       "      <th>Status</th>\n",
       "    </tr>\n",
       "  </thead>\n",
       "  <tbody>\n",
       "    <tr>\n",
       "      <th>0</th>\n",
       "      <td>https://epicea.inrs.fr/servlet/public_display?...</td>\n",
       "      <td>20057</td>\n",
       "      <td>E - Chimie, caoutchouc, plasturgie</td>\n",
       "      <td>244CB - Fabrication de produits de base pour l...</td>\n",
       "      <td>110190 - Autre type de machine à remplir, emba...</td>\n",
       "      <td>Le rôle de la victime - 45 ans, conductrice de...</td>\n",
       "      <td>[]</td>\n",
       "      <td>conductrice</td>\n",
       "      <td>Femme</td>\n",
       "      <td>45.0</td>\n",
       "      <td>False</td>\n",
       "      <td>défaut de machine</td>\n",
       "      <td>sectionné</td>\n",
       "      <td>False</td>\n",
       "      <td>False</td>\n",
       "      <td>False</td>\n",
       "      <td>False</td>\n",
       "      <td>machine à conditionner</td>\n",
       "      <td>dysfonctionnement</td>\n",
       "      <td>Analysé</td>\n",
       "    </tr>\n",
       "    <tr>\n",
       "      <th>1</th>\n",
       "      <td>https://epicea.inrs.fr/servlet/public_display?...</td>\n",
       "      <td>12123</td>\n",
       "      <td>E - Chimie, caoutchouc, plasturgie</td>\n",
       "      <td>244CB - Fabrication de produits de base pour l...</td>\n",
       "      <td>279000 - Autre matériel de production, de tran...</td>\n",
       "      <td>La victime, dessinateur, âgée de 29 ans, était...</td>\n",
       "      <td>[]</td>\n",
       "      <td>dessinateur</td>\n",
       "      <td>Femme ou Homme</td>\n",
       "      <td>29.0</td>\n",
       "      <td>False</td>\n",
       "      <td>essai d'étanchéité</td>\n",
       "      <td>5 blessés</td>\n",
       "      <td>False</td>\n",
       "      <td>True</td>\n",
       "      <td>False</td>\n",
       "      <td>False</td>\n",
       "      <td>réacteur</td>\n",
       "      <td>canalisation s'est dessartie</td>\n",
       "      <td>Analysé</td>\n",
       "    </tr>\n",
       "    <tr>\n",
       "      <th>2</th>\n",
       "      <td>https://epicea.inrs.fr/servlet/public_display?...</td>\n",
       "      <td>17938</td>\n",
       "      <td>A - Métallurgie</td>\n",
       "      <td>295EC - Fabrication de machines pour les indus...</td>\n",
       "      <td>998000 - Sans objet</td>\n",
       "      <td>La victime, 49 ans, technicien service après v...</td>\n",
       "      <td>[]</td>\n",
       "      <td>technicien service après vente</td>\n",
       "      <td>Femme</td>\n",
       "      <td>49.0</td>\n",
       "      <td>False</td>\n",
       "      <td>agression</td>\n",
       "      <td>coups à la tête et au corps</td>\n",
       "      <td>True</td>\n",
       "      <td>False</td>\n",
       "      <td>False</td>\n",
       "      <td>False</td>\n",
       "      <td>Non spécifié</td>\n",
       "      <td>Non spécifié</td>\n",
       "      <td>Analysé</td>\n",
       "    </tr>\n",
       "    <tr>\n",
       "      <th>3</th>\n",
       "      <td>https://epicea.inrs.fr/servlet/public_display?...</td>\n",
       "      <td>6208</td>\n",
       "      <td>D - Services, commerces et industries de l'ali...</td>\n",
       "      <td>158VB - Industries alimentaires non classées p...</td>\n",
       "      <td>110127 - Machine à coller les étiquettes</td>\n",
       "      <td>Lors de l'étiquetage, des étiquettes se sont c...</td>\n",
       "      <td>[]</td>\n",
       "      <td>magasinier</td>\n",
       "      <td>Homme</td>\n",
       "      <td>31.0</td>\n",
       "      <td>False</td>\n",
       "      <td>étiquetage</td>\n",
       "      <td>main</td>\n",
       "      <td>False</td>\n",
       "      <td>False</td>\n",
       "      <td>False</td>\n",
       "      <td>False</td>\n",
       "      <td>machine à étiqueter</td>\n",
       "      <td>étiquettes coincées, portes ouvertes</td>\n",
       "      <td>Analysé</td>\n",
       "    </tr>\n",
       "    <tr>\n",
       "      <th>4</th>\n",
       "      <td>https://epicea.inrs.fr/servlet/public_display?...</td>\n",
       "      <td>8185</td>\n",
       "      <td>D - Services, commerces et industries de l'ali...</td>\n",
       "      <td>157AB - Malterie, meunerie, fabrication de pât...</td>\n",
       "      <td>130159 - Conteneur</td>\n",
       "      <td>La victime - manutentionnaire, âgé de 59 ans -...</td>\n",
       "      <td>[]</td>\n",
       "      <td>manutentionnaire</td>\n",
       "      <td>Homme</td>\n",
       "      <td>59.0</td>\n",
       "      <td>False</td>\n",
       "      <td>chute</td>\n",
       "      <td>clavicule, thorax, bassin</td>\n",
       "      <td>False</td>\n",
       "      <td>False</td>\n",
       "      <td>False</td>\n",
       "      <td>False</td>\n",
       "      <td>gerbeur, camion</td>\n",
       "      <td>renversement du container, décolmatage de produit</td>\n",
       "      <td>Analysé</td>\n",
       "    </tr>\n",
       "  </tbody>\n",
       "</table>\n",
       "</div>"
      ],
      "text/plain": [
       "                                                 Ref  Numero_dossier  \\\n",
       "0  https://epicea.inrs.fr/servlet/public_display?...           20057   \n",
       "1  https://epicea.inrs.fr/servlet/public_display?...           12123   \n",
       "2  https://epicea.inrs.fr/servlet/public_display?...           17938   \n",
       "3  https://epicea.inrs.fr/servlet/public_display?...            6208   \n",
       "4  https://epicea.inrs.fr/servlet/public_display?...            8185   \n",
       "\n",
       "                                              Comite  \\\n",
       "0                 E - Chimie, caoutchouc, plasturgie   \n",
       "1                 E - Chimie, caoutchouc, plasturgie   \n",
       "2                                    A - Métallurgie   \n",
       "3  D - Services, commerces et industries de l'ali...   \n",
       "4  D - Services, commerces et industries de l'ali...   \n",
       "\n",
       "                                     Code_entreprise  \\\n",
       "0  244CB - Fabrication de produits de base pour l...   \n",
       "1  244CB - Fabrication de produits de base pour l...   \n",
       "2  295EC - Fabrication de machines pour les indus...   \n",
       "3  158VB - Industries alimentaires non classées p...   \n",
       "4  157AB - Malterie, meunerie, fabrication de pât...   \n",
       "\n",
       "                                            Materiel  \\\n",
       "0  110190 - Autre type de machine à remplir, emba...   \n",
       "1  279000 - Autre matériel de production, de tran...   \n",
       "2                                998000 - Sans objet   \n",
       "3           110127 - Machine à coller les étiquettes   \n",
       "4                                 130159 - Conteneur   \n",
       "\n",
       "                                              Resume Adresse_pdf  \\\n",
       "0  Le rôle de la victime - 45 ans, conductrice de...          []   \n",
       "1  La victime, dessinateur, âgée de 29 ans, était...          []   \n",
       "2  La victime, 49 ans, technicien service après v...          []   \n",
       "3  Lors de l'étiquetage, des étiquettes se sont c...          []   \n",
       "4  La victime - manutentionnaire, âgé de 59 ans -...          []   \n",
       "\n",
       "                           Metier            Sexe   Age Junior  \\\n",
       "0                     conductrice           Femme  45.0  False   \n",
       "1                     dessinateur  Femme ou Homme  29.0  False   \n",
       "2  technicien service après vente           Femme  49.0  False   \n",
       "3                      magasinier           Homme  31.0  False   \n",
       "4                manutentionnaire           Homme  59.0  False   \n",
       "\n",
       "        Type_accident                     Blessure  Deces Circulation Malaise  \\\n",
       "0   défaut de machine                    sectionné  False       False   False   \n",
       "1  essai d'étanchéité                    5 blessés  False        True   False   \n",
       "2           agression  coups à la tête et au corps   True       False   False   \n",
       "3          étiquetage                         main  False       False   False   \n",
       "4               chute    clavicule, thorax, bassin  False       False   False   \n",
       "\n",
       "  Suicide                 Machine  \\\n",
       "0   False  machine à conditionner   \n",
       "1   False                réacteur   \n",
       "2   False            Non spécifié   \n",
       "3   False     machine à étiqueter   \n",
       "4   False         gerbeur, camion   \n",
       "\n",
       "                                               Cause   Status  \n",
       "0                                  dysfonctionnement  Analysé  \n",
       "1                       canalisation s'est dessartie  Analysé  \n",
       "2                                       Non spécifié  Analysé  \n",
       "3               étiquettes coincées, portes ouvertes  Analysé  \n",
       "4  renversement du container, décolmatage de produit  Analysé  "
      ]
     },
     "execution_count": 73,
     "metadata": {},
     "output_type": "execute_result"
    }
   ],
   "source": [
    "df = pd.read_csv(\"Accident_database_refined.csv\", sep=\"|\")\n",
    "df.head()"
   ]
  },
  {
   "cell_type": "code",
   "execution_count": null,
   "id": "1417f866",
   "metadata": {},
   "outputs": [],
   "source": [
    "df.info()"
   ]
  },
  {
   "cell_type": "code",
   "execution_count": null,
   "id": "197ffe8f",
   "metadata": {},
   "outputs": [],
   "source": [
    "df = df.drop([],axis=1)\n",
    "# df = df.replace(\"\\u00e9\", \"é\")"
   ]
  },
  {
   "cell_type": "code",
   "execution_count": null,
   "id": "1ce6e060",
   "metadata": {},
   "outputs": [],
   "source": [
    "df.to_csv(\"Accident_database_refined.csv\", sep=\"|\", index=False, encoding=\"utf-8\")"
   ]
  },
  {
   "cell_type": "code",
   "execution_count": null,
   "id": "06ef2f36",
   "metadata": {},
   "outputs": [],
   "source": []
  },
  {
   "cell_type": "code",
   "execution_count": null,
   "id": "7ef2d861",
   "metadata": {},
   "outputs": [],
   "source": []
  },
  {
   "cell_type": "code",
   "execution_count": null,
   "id": "a927cb2e",
   "metadata": {},
   "outputs": [],
   "source": []
  },
  {
   "cell_type": "code",
   "execution_count": null,
   "id": "7828c22c",
   "metadata": {},
   "outputs": [],
   "source": []
  },
  {
   "cell_type": "code",
   "execution_count": null,
   "id": "c5651be9",
   "metadata": {},
   "outputs": [],
   "source": []
  },
  {
   "cell_type": "code",
   "execution_count": null,
   "id": "8ffaabf2",
   "metadata": {},
   "outputs": [],
   "source": []
  },
  {
   "cell_type": "code",
   "execution_count": null,
   "id": "97ca0e45",
   "metadata": {},
   "outputs": [],
   "source": []
  },
  {
   "cell_type": "code",
   "execution_count": null,
   "id": "04775ce2",
   "metadata": {},
   "outputs": [],
   "source": []
  },
  {
   "cell_type": "code",
   "execution_count": null,
   "id": "ee9fd0e6",
   "metadata": {},
   "outputs": [],
   "source": []
  },
  {
   "cell_type": "code",
   "execution_count": null,
   "id": "872e8642",
   "metadata": {},
   "outputs": [],
   "source": []
  },
  {
   "cell_type": "code",
   "execution_count": null,
   "id": "c454158e",
   "metadata": {},
   "outputs": [],
   "source": []
  },
  {
   "cell_type": "code",
   "execution_count": null,
   "id": "f55afbd4",
   "metadata": {},
   "outputs": [],
   "source": []
  },
  {
   "cell_type": "code",
   "execution_count": null,
   "id": "5ebd1596",
   "metadata": {},
   "outputs": [],
   "source": []
  },
  {
   "cell_type": "code",
   "execution_count": null,
   "id": "8d5cb256",
   "metadata": {},
   "outputs": [],
   "source": []
  },
  {
   "cell_type": "code",
   "execution_count": null,
   "id": "f220a3ac",
   "metadata": {},
   "outputs": [],
   "source": []
  },
  {
   "cell_type": "code",
   "execution_count": null,
   "id": "4a8b1268",
   "metadata": {},
   "outputs": [],
   "source": []
  },
  {
   "cell_type": "code",
   "execution_count": null,
   "id": "06f70289",
   "metadata": {},
   "outputs": [],
   "source": []
  },
  {
   "cell_type": "code",
   "execution_count": null,
   "id": "b9be4d2b",
   "metadata": {},
   "outputs": [],
   "source": []
  },
  {
   "cell_type": "code",
   "execution_count": null,
   "id": "eced522d",
   "metadata": {},
   "outputs": [],
   "source": []
  },
  {
   "cell_type": "code",
   "execution_count": null,
   "id": "9edcbd46",
   "metadata": {},
   "outputs": [],
   "source": []
  },
  {
   "cell_type": "code",
   "execution_count": null,
   "id": "7b68d392",
   "metadata": {},
   "outputs": [],
   "source": []
  },
  {
   "cell_type": "code",
   "execution_count": null,
   "id": "0b8473ac",
   "metadata": {},
   "outputs": [],
   "source": []
  },
  {
   "cell_type": "code",
   "execution_count": null,
   "id": "c4535523",
   "metadata": {},
   "outputs": [],
   "source": []
  },
  {
   "cell_type": "code",
   "execution_count": null,
   "id": "d113b817",
   "metadata": {},
   "outputs": [],
   "source": []
  },
  {
   "cell_type": "code",
   "execution_count": null,
   "id": "aaa745dc",
   "metadata": {},
   "outputs": [],
   "source": []
  },
  {
   "cell_type": "code",
   "execution_count": null,
   "id": "9e583645",
   "metadata": {},
   "outputs": [],
   "source": []
  },
  {
   "cell_type": "code",
   "execution_count": null,
   "id": "f4dfb2fe",
   "metadata": {},
   "outputs": [],
   "source": []
  },
  {
   "cell_type": "code",
   "execution_count": null,
   "id": "80e02a7b",
   "metadata": {},
   "outputs": [],
   "source": []
  },
  {
   "cell_type": "code",
   "execution_count": null,
   "id": "cb774e90",
   "metadata": {},
   "outputs": [],
   "source": []
  },
  {
   "cell_type": "code",
   "execution_count": null,
   "id": "d8e16ac2",
   "metadata": {},
   "outputs": [],
   "source": []
  },
  {
   "cell_type": "code",
   "execution_count": null,
   "id": "22c01bc0",
   "metadata": {},
   "outputs": [],
   "source": []
  },
  {
   "cell_type": "code",
   "execution_count": null,
   "id": "7d982ee8",
   "metadata": {},
   "outputs": [],
   "source": []
  },
  {
   "cell_type": "code",
   "execution_count": 78,
   "id": "a6be4c95",
   "metadata": {},
   "outputs": [
    {
     "data": {
      "text/html": [
       "<div>\n",
       "<style scoped>\n",
       "    .dataframe tbody tr th:only-of-type {\n",
       "        vertical-align: middle;\n",
       "    }\n",
       "\n",
       "    .dataframe tbody tr th {\n",
       "        vertical-align: top;\n",
       "    }\n",
       "\n",
       "    .dataframe thead th {\n",
       "        text-align: right;\n",
       "    }\n",
       "</style>\n",
       "<table border=\"1\" class=\"dataframe\">\n",
       "  <thead>\n",
       "    <tr style=\"text-align: right;\">\n",
       "      <th></th>\n",
       "      <th>Code</th>\n",
       "      <th>Descriptif</th>\n",
       "    </tr>\n",
       "  </thead>\n",
       "  <tbody>\n",
       "    <tr>\n",
       "      <th>0</th>\n",
       "      <td>241GM</td>\n",
       "      <td>Chimie organique de synthèse</td>\n",
       "    </tr>\n",
       "    <tr>\n",
       "      <th>1</th>\n",
       "      <td>274CG</td>\n",
       "      <td>Electrométallurgie et électrochimie associées</td>\n",
       "    </tr>\n",
       "    <tr>\n",
       "      <th>2</th>\n",
       "      <td>295EC</td>\n",
       "      <td>Fabrication de machines pour les industries du...</td>\n",
       "    </tr>\n",
       "    <tr>\n",
       "      <th>3</th>\n",
       "      <td>2110Z</td>\n",
       "      <td>Fabrication de produits pharmaceutiques de base</td>\n",
       "    </tr>\n",
       "    <tr>\n",
       "      <th>4</th>\n",
       "      <td>2120Z</td>\n",
       "      <td>Fabrication de préparations pharmaceutiques</td>\n",
       "    </tr>\n",
       "    <tr>\n",
       "      <th>5</th>\n",
       "      <td>244CB</td>\n",
       "      <td>Fabrication de produits de base pour la pharmacie</td>\n",
       "    </tr>\n",
       "    <tr>\n",
       "      <th>6</th>\n",
       "      <td>244DA</td>\n",
       "      <td>Fabrication d autres produits pharmaceutiques</td>\n",
       "    </tr>\n",
       "    <tr>\n",
       "      <th>7</th>\n",
       "      <td>4646Z</td>\n",
       "      <td>Commerce de gros inter-entreprise de produits ...</td>\n",
       "    </tr>\n",
       "    <tr>\n",
       "      <th>8</th>\n",
       "      <td>4773Z</td>\n",
       "      <td>Commerce de détail de produits pharmaceutiques</td>\n",
       "    </tr>\n",
       "    <tr>\n",
       "      <th>9</th>\n",
       "      <td>514NA</td>\n",
       "      <td>Commerce de gros de produits pharmaceutiques</td>\n",
       "    </tr>\n",
       "    <tr>\n",
       "      <th>10</th>\n",
       "      <td>523AB</td>\n",
       "      <td>Commerce de parfums et produits de beauté</td>\n",
       "    </tr>\n",
       "    <tr>\n",
       "      <th>11</th>\n",
       "      <td>1073Z</td>\n",
       "      <td>Fabrication de pâtes alimentaires</td>\n",
       "    </tr>\n",
       "    <tr>\n",
       "      <th>12</th>\n",
       "      <td>1086Z</td>\n",
       "      <td>Fabrication d aliments diététiques</td>\n",
       "    </tr>\n",
       "    <tr>\n",
       "      <th>13</th>\n",
       "      <td>1089Z</td>\n",
       "      <td>Fabrication d autres produits alimentaires</td>\n",
       "    </tr>\n",
       "    <tr>\n",
       "      <th>14</th>\n",
       "      <td>157AB</td>\n",
       "      <td>Malterie, meunerie, fabrication de pâtes alime...</td>\n",
       "    </tr>\n",
       "  </tbody>\n",
       "</table>\n",
       "</div>"
      ],
      "text/plain": [
       "     Code                                         Descriptif\n",
       "0   241GM                       Chimie organique de synthèse\n",
       "1   274CG      Electrométallurgie et électrochimie associées\n",
       "2   295EC  Fabrication de machines pour les industries du...\n",
       "3   2110Z    Fabrication de produits pharmaceutiques de base\n",
       "4   2120Z        Fabrication de préparations pharmaceutiques\n",
       "5   244CB  Fabrication de produits de base pour la pharmacie\n",
       "6   244DA      Fabrication d autres produits pharmaceutiques\n",
       "7   4646Z  Commerce de gros inter-entreprise de produits ...\n",
       "8   4773Z     Commerce de détail de produits pharmaceutiques\n",
       "9   514NA       Commerce de gros de produits pharmaceutiques\n",
       "10  523AB          Commerce de parfums et produits de beauté\n",
       "11  1073Z                  Fabrication de pâtes alimentaires\n",
       "12  1086Z                 Fabrication d aliments diététiques\n",
       "13  1089Z         Fabrication d autres produits alimentaires\n",
       "14  157AB  Malterie, meunerie, fabrication de pâtes alime..."
      ]
     },
     "execution_count": 78,
     "metadata": {},
     "output_type": "execute_result"
    }
   ],
   "source": [
    "code = ['241GM', '274CG', '295EC', '2110Z', '2120Z', '244CB', '244DA', '4646Z', '4773Z', '514NA', '523AB', \n",
    "        '1073Z', '1086Z', '1089Z', '157AB', '158VB']\n",
    "descriptif = ['Chimie organique de synthèse', 'Electrométallurgie et électrochimie associées', 'Fabrication de machines pour les industries du process',\n",
    "             'Fabrication de produits pharmaceutiques de base', 'Fabrication de préparations pharmaceutiques', 'Fabrication de produits de base pour la pharmacie',\n",
    "             'Fabrication d autres produits pharmaceutiques', 'Commerce de gros inter-entreprise de produits pharmaceutiques', 'Commerce de détail de produits pharmaceutiques', \n",
    "             'Commerce de gros de produits pharmaceutiques', 'Commerce de parfums et produits de beauté', 'Fabrication de pâtes alimentaires',\n",
    "             'Fabrication d aliments diététiques', 'Fabrication d autres produits alimentaires', 'Malterie, meunerie, fabrication de pâtes alimentaires et semoule',\n",
    "             'Industries alimentaires non classées']\n",
    "\n",
    "filtres = pd.DataFrame(list(zip(code, descriptif)), columns=['Code', 'Descriptif'])\n",
    "filtres.head(15)"
   ]
  },
  {
   "cell_type": "code",
   "execution_count": null,
   "id": "8e52efb9",
   "metadata": {},
   "outputs": [],
   "source": []
  },
  {
   "cell_type": "code",
   "execution_count": null,
   "id": "cd1b1ecc",
   "metadata": {},
   "outputs": [],
   "source": []
  },
  {
   "cell_type": "code",
   "execution_count": null,
   "id": "068131e2",
   "metadata": {},
   "outputs": [],
   "source": []
  },
  {
   "cell_type": "code",
   "execution_count": null,
   "id": "670396f0",
   "metadata": {},
   "outputs": [],
   "source": []
  },
  {
   "cell_type": "code",
   "execution_count": null,
   "id": "679ea2ee",
   "metadata": {},
   "outputs": [],
   "source": []
  },
  {
   "cell_type": "code",
   "execution_count": null,
   "id": "a0003735",
   "metadata": {},
   "outputs": [],
   "source": []
  },
  {
   "cell_type": "code",
   "execution_count": null,
   "id": "cebb67af",
   "metadata": {},
   "outputs": [],
   "source": []
  },
  {
   "cell_type": "code",
   "execution_count": null,
   "id": "f91a8745",
   "metadata": {},
   "outputs": [],
   "source": []
  },
  {
   "cell_type": "code",
   "execution_count": null,
   "id": "542579e6",
   "metadata": {},
   "outputs": [],
   "source": []
  },
  {
   "cell_type": "code",
   "execution_count": null,
   "id": "b548992d",
   "metadata": {},
   "outputs": [],
   "source": []
  },
  {
   "cell_type": "code",
   "execution_count": null,
   "id": "dc9809ea",
   "metadata": {},
   "outputs": [],
   "source": []
  },
  {
   "cell_type": "code",
   "execution_count": null,
   "id": "d36ea461",
   "metadata": {},
   "outputs": [],
   "source": []
  },
  {
   "cell_type": "code",
   "execution_count": null,
   "id": "04c194be",
   "metadata": {},
   "outputs": [],
   "source": []
  },
  {
   "cell_type": "code",
   "execution_count": null,
   "id": "152948df",
   "metadata": {},
   "outputs": [],
   "source": []
  },
  {
   "cell_type": "code",
   "execution_count": null,
   "id": "f90ef7a5",
   "metadata": {},
   "outputs": [],
   "source": []
  },
  {
   "cell_type": "code",
   "execution_count": null,
   "id": "d5b56da6",
   "metadata": {},
   "outputs": [],
   "source": []
  },
  {
   "cell_type": "code",
   "execution_count": null,
   "id": "68483e05",
   "metadata": {},
   "outputs": [],
   "source": []
  },
  {
   "cell_type": "code",
   "execution_count": null,
   "id": "ec394fd7",
   "metadata": {},
   "outputs": [],
   "source": []
  },
  {
   "cell_type": "code",
   "execution_count": null,
   "id": "5bc83902",
   "metadata": {},
   "outputs": [],
   "source": []
  },
  {
   "cell_type": "code",
   "execution_count": null,
   "id": "1ca49f29",
   "metadata": {},
   "outputs": [],
   "source": []
  },
  {
   "cell_type": "code",
   "execution_count": null,
   "id": "2fa994f1",
   "metadata": {},
   "outputs": [],
   "source": []
  },
  {
   "cell_type": "code",
   "execution_count": null,
   "id": "f0a2a578",
   "metadata": {},
   "outputs": [],
   "source": []
  },
  {
   "cell_type": "code",
   "execution_count": null,
   "id": "d4a718ed",
   "metadata": {},
   "outputs": [],
   "source": []
  },
  {
   "cell_type": "code",
   "execution_count": null,
   "id": "c36977ee",
   "metadata": {},
   "outputs": [],
   "source": []
  },
  {
   "cell_type": "code",
   "execution_count": null,
   "id": "4da1c8a1",
   "metadata": {},
   "outputs": [],
   "source": []
  },
  {
   "cell_type": "code",
   "execution_count": null,
   "id": "825ef658",
   "metadata": {},
   "outputs": [],
   "source": []
  },
  {
   "cell_type": "code",
   "execution_count": null,
   "id": "a4699d08",
   "metadata": {},
   "outputs": [],
   "source": []
  },
  {
   "cell_type": "code",
   "execution_count": null,
   "id": "eb7a33e1",
   "metadata": {},
   "outputs": [],
   "source": []
  },
  {
   "cell_type": "code",
   "execution_count": null,
   "id": "f84f2254",
   "metadata": {},
   "outputs": [],
   "source": []
  },
  {
   "cell_type": "code",
   "execution_count": null,
   "id": "cf12bcc4",
   "metadata": {},
   "outputs": [],
   "source": []
  },
  {
   "cell_type": "code",
   "execution_count": null,
   "id": "c0150ddb",
   "metadata": {},
   "outputs": [],
   "source": []
  },
  {
   "cell_type": "code",
   "execution_count": null,
   "id": "bdb23616",
   "metadata": {},
   "outputs": [],
   "source": []
  },
  {
   "cell_type": "code",
   "execution_count": null,
   "id": "91316a81",
   "metadata": {},
   "outputs": [],
   "source": []
  },
  {
   "cell_type": "code",
   "execution_count": null,
   "id": "eae07aed",
   "metadata": {},
   "outputs": [],
   "source": []
  },
  {
   "cell_type": "code",
   "execution_count": null,
   "id": "8cf12f4d",
   "metadata": {},
   "outputs": [],
   "source": []
  },
  {
   "cell_type": "code",
   "execution_count": null,
   "id": "bc32f031",
   "metadata": {},
   "outputs": [],
   "source": []
  },
  {
   "cell_type": "code",
   "execution_count": null,
   "id": "482b037b",
   "metadata": {},
   "outputs": [],
   "source": []
  },
  {
   "cell_type": "code",
   "execution_count": null,
   "id": "719ab7ed",
   "metadata": {},
   "outputs": [],
   "source": []
  },
  {
   "cell_type": "code",
   "execution_count": null,
   "id": "9e17bf17",
   "metadata": {},
   "outputs": [],
   "source": []
  },
  {
   "cell_type": "code",
   "execution_count": null,
   "id": "4eb609fc",
   "metadata": {},
   "outputs": [],
   "source": []
  },
  {
   "cell_type": "code",
   "execution_count": null,
   "id": "12a93254",
   "metadata": {},
   "outputs": [],
   "source": []
  },
  {
   "cell_type": "code",
   "execution_count": null,
   "id": "5debe870",
   "metadata": {},
   "outputs": [],
   "source": []
  },
  {
   "cell_type": "code",
   "execution_count": null,
   "id": "f8ffd4e1",
   "metadata": {},
   "outputs": [],
   "source": []
  },
  {
   "cell_type": "code",
   "execution_count": null,
   "id": "0b74e0e3",
   "metadata": {},
   "outputs": [],
   "source": []
  },
  {
   "cell_type": "code",
   "execution_count": null,
   "id": "e130aecd",
   "metadata": {},
   "outputs": [],
   "source": []
  }
 ],
 "metadata": {
  "kernelspec": {
   "display_name": "Python 3 (ipykernel)",
   "language": "python",
   "name": "python3"
  },
  "language_info": {
   "codemirror_mode": {
    "name": "ipython",
    "version": 3
   },
   "file_extension": ".py",
   "mimetype": "text/x-python",
   "name": "python",
   "nbconvert_exporter": "python",
   "pygments_lexer": "ipython3",
   "version": "3.11.5"
  }
 },
 "nbformat": 4,
 "nbformat_minor": 5
}
